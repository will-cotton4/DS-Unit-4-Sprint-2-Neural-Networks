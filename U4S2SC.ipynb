{
  "nbformat": 4,
  "nbformat_minor": 0,
  "metadata": {
    "kernel_info": {
      "name": "python3"
    },
    "kernelspec": {
      "display_name": "Python 3",
      "language": "python",
      "name": "python3"
    },
    "language_info": {
      "codemirror_mode": {
        "name": "ipython",
        "version": 3
      },
      "file_extension": ".py",
      "mimetype": "text/x-python",
      "name": "python",
      "nbconvert_exporter": "python",
      "pygments_lexer": "ipython3",
      "version": "3.7.3"
    },
    "nteract": {
      "version": "0.14.3"
    },
    "colab": {
      "name": "U4S2SC.ipynb",
      "version": "0.3.2",
      "provenance": [],
      "include_colab_link": true
    }
  },
  "cells": [
    {
      "cell_type": "markdown",
      "metadata": {
        "id": "view-in-github",
        "colab_type": "text"
      },
      "source": [
        "<a href=\"https://colab.research.google.com/github/will-cotton4/DS-Unit-4-Sprint-2-Neural-Networks/blob/master/U4S2SC.ipynb\" target=\"_parent\"><img src=\"https://colab.research.google.com/assets/colab-badge.svg\" alt=\"Open In Colab\"/></a>"
      ]
    },
    {
      "cell_type": "markdown",
      "metadata": {
        "id": "XuJppmQX7YCc",
        "colab_type": "text"
      },
      "source": [
        "<img align=\"left\" src=\"https://lever-client-logos.s3.amazonaws.com/864372b1-534c-480e-acd5-9711f850815c-1524247202159.png\" width=200>\n",
        "<br></br>\n",
        "<br></br>\n",
        "\n",
        "## *Data Science Unit 4 Sprint 2*\n",
        "\n",
        "# Sprint Challenge - Neural Network Foundations\n",
        "\n",
        "Table of Problems\n",
        "\n",
        "1. [Defining Neural Networks](#Q1)\n",
        "2. [Perceptron on XOR Gates](#Q2)\n",
        "3. [Multilayer Perceptron](#Q3)\n",
        "4. [Keras MMP](#Q4)"
      ]
    },
    {
      "cell_type": "markdown",
      "metadata": {
        "id": "Afav8qkb7YCf",
        "colab_type": "text"
      },
      "source": [
        "<a id=\"Q1\"></a>\n",
        "## 1. Define the following terms:\n",
        "\n",
        "- **Neuron: A single node in a neural network--could be in an input, hidden, or output layer.**\n",
        "\n",
        "- **Input Layer: An input layer of a neural network is one that is exposed our raw data directly.**\n",
        "\n",
        "- **Hidden Layer: Hidden layers are components of a neural network that are not directly exposed to either the raw data inputs or the fully processed data; rather, they operate as intermediate layers between the input and output and are thus \"hidden\" in the sense that they are not on either the very front or the very end of the network.**\n",
        "\n",
        "- **Output Layer: The very last layer of the network, responsible for producing an output vector appropriate to the problem. For example, an output layer for the MNIST dataset might produce a point-prediction (a number between 0 and 9 that the number is most likely to be) or a vector of probabilities that the image might be each number.**\n",
        "\n",
        "- **Activation: A function which combines inputs with weights and biases to produce a probability for activation of the relevant neuron.**\n",
        "\n",
        "- **Backpropagation: An algorithm for updating weights in a neural network. The error in prediction at the end of an epoch is propagated backward through the network (hence \"backpropagation\") using a combination of matrix multiplication and the chain rule.**\n"
      ]
    },
    {
      "cell_type": "markdown",
      "metadata": {
        "id": "zYWJ0KIm7YCg",
        "colab_type": "text"
      },
      "source": [
        "## 2. Perceptron on AND Gates <a id=\"Q3=2\"></a>\n",
        "\n",
        "Create a perceptron class that can model the behavior of an AND gate. You can use the following table as your training data:\n",
        "\n",
        "|x1\t|x2|x3|\ty|\n",
        "|---|---|---|---|\n",
        "1|\t1|\t1|\t1|\n",
        "1|\t0|\t1|\t0|\n",
        "0|\t1|\t1|\t0|\n",
        "0|\t0|\t1|\t0|"
      ]
    },
    {
      "cell_type": "code",
      "metadata": {
        "inputHidden": false,
        "jupyter": {
          "outputs_hidden": false
        },
        "outputHidden": false,
        "id": "ZwM4kbh57YCh",
        "colab_type": "code",
        "colab": {}
      },
      "source": [
        "import numpy as np\n",
        "class Perceptron(object):\n",
        "  def __init__(self, rate = 0.01, niter = 10):\n",
        "    self.rate = rate\n",
        "    self.niter = niter\n",
        "\n",
        "  def fit(self, X, y):\n",
        "    \"\"\"Fit training data\n",
        "    X : Training vectors, X.shape : [#samples, #features]\n",
        "    y : Target values, y.shape : [#samples]\n",
        "    \"\"\"\n",
        "\n",
        "    # weights\n",
        "    self.weight = np.zeros(1 + X.shape[1])\n",
        "\n",
        "    # Number of misclassifications\n",
        "    self.errors = []  # Number of misclassifications\n",
        "\n",
        "    for i in range(self.niter):\n",
        "      err = 0\n",
        "      for xi, target in zip(X, y):\n",
        "        delta_w = self.rate * (target - self.predict(xi))\n",
        "        self.weight[1:] += delta_w * xi\n",
        "        self.weight[0] += delta_w\n",
        "        err += int(delta_w != 0.0)\n",
        "      self.errors.append(err)\n",
        "    return self\n",
        "\n",
        "  def net_input(self, X):\n",
        "    \"\"\"Calculate net input\"\"\"\n",
        "    return np.dot(X, self.weight[1:]) + self.weight[0]\n",
        "\n",
        "  def predict(self, X):\n",
        "    \"\"\"Return class label after unit step\"\"\"\n",
        "    return np.where(self.net_input(X) >= 0, 1, 0)"
      ],
      "execution_count": 0,
      "outputs": []
    },
    {
      "cell_type": "code",
      "metadata": {
        "id": "259LyM5n7YCk",
        "colab_type": "code",
        "colab": {
          "base_uri": "https://localhost:8080/",
          "height": 34
        },
        "outputId": "76ecbe5a-4cc1-4932-c49c-e917144b0ca5"
      },
      "source": [
        "percept = Perceptron(niter=5000)\n",
        "X = np.array([[1, 1, 1],\n",
        "     [1, 0, 1],\n",
        "     [0, 1, 1],\n",
        "     [0, 0, 1]], dtype=float)\n",
        "y = np.array([[1],\n",
        "     [0],\n",
        "    [0],\n",
        "    [0]], dtype=float)\n",
        "percept.fit(X, y)\n",
        "print(percept.predict(X))"
      ],
      "execution_count": 2,
      "outputs": [
        {
          "output_type": "stream",
          "text": [
            "[1 0 0 0]\n"
          ],
          "name": "stdout"
        }
      ]
    },
    {
      "cell_type": "code",
      "metadata": {
        "id": "uBGcTeuF7YCq",
        "colab_type": "code",
        "colab": {
          "base_uri": "https://localhost:8080/",
          "height": 34
        },
        "outputId": "1494652f-bbb5-48dd-e681-cdd3e09459d7"
      },
      "source": [
        "percept.predict([\n",
        "    [1, 1, 0], # Should return 1\n",
        "    [1, 0, 1], # Should return 0\n",
        "    [1, 1, 1], # Should return 1\n",
        "    [0, 0, 0], # Should return 0\n",
        "])"
      ],
      "execution_count": 3,
      "outputs": [
        {
          "output_type": "execute_result",
          "data": {
            "text/plain": [
              "array([1, 0, 1, 0])"
            ]
          },
          "metadata": {
            "tags": []
          },
          "execution_count": 3
        }
      ]
    },
    {
      "cell_type": "markdown",
      "metadata": {
        "id": "MVreVK3e7YCu",
        "colab_type": "text"
      },
      "source": [
        "Cool."
      ]
    },
    {
      "cell_type": "markdown",
      "metadata": {
        "id": "xqs7HvoS7YCv",
        "colab_type": "text"
      },
      "source": [
        "## 3. Multilayer Perceptron <a id=\"Q3\"></a>\n",
        "\n",
        "Implement a Neural Network Multilayer Perceptron class that uses backpropagation to update the network's weights.\n",
        "Your network must have one hidden layer.\n",
        "You do not have to update weights via gradient descent. You can use something like the derivative of the sigmoid function to update weights.\n",
        "Train your model on the Heart Disease dataset from UCI:\n",
        "\n"
      ]
    },
    {
      "cell_type": "code",
      "metadata": {
        "inputHidden": false,
        "jupyter": {
          "outputs_hidden": false
        },
        "outputHidden": false,
        "id": "OFuj065o7YCw",
        "colab_type": "code",
        "colab": {}
      },
      "source": [
        "heart_url = 'https://raw.githubusercontent.com/will-cotton4/DS-Unit-4-Sprint-2-Neural-Networks/master/processed.cleveland.csv'\n",
        "\n",
        "import numpy as np\n",
        "import pandas as pd\n",
        "\n",
        "cols = ['age', 'sex', 'cp', 'trestbps', 'chol', 'fbs',\n",
        "        'restecg', 'thalach', 'exang', 'oldpeak', 'slope',\n",
        "        'ca', 'thal', 'num']\n",
        "heart = pd.read_csv(heart_url, names=cols)\n",
        "\n",
        "def clean_heart(df):\n",
        "    df = df.copy()\n",
        "    \n",
        "    df['disease'] = (df['num'] != 0).astype(int)\n",
        "    \n",
        "    df = df.replace({'?':np.nan})\n",
        "    df = df.fillna(method='ffill')\n",
        "    return df\n",
        "heart = clean_heart(heart)"
      ],
      "execution_count": 0,
      "outputs": []
    },
    {
      "cell_type": "code",
      "metadata": {
        "id": "j2LoVzat7YCy",
        "colab_type": "code",
        "colab": {}
      },
      "source": [
        "from sklearn.model_selection import train_test_split\n",
        "from sklearn.preprocessing import StandardScaler\n",
        "\n",
        "cols = ['age', 'sex', 'cp', 'trestbps', 'chol', 'fbs',\n",
        "        'restecg', 'thalach', 'exang', 'oldpeak', 'slope',\n",
        "        'ca', 'thal']\n",
        "ss = StandardScaler()\n",
        "\n",
        "ss.fit(heart[cols])\n",
        "\n",
        "X = ss.transform(heart[cols])\n",
        "\n",
        "y = heart['disease'].values.reshape(-1,1)\n",
        "     \n",
        "\n",
        "X_train, X_test, y_train, y_test = train_test_split(X, y, random_state=42, stratify=y)"
      ],
      "execution_count": 0,
      "outputs": []
    },
    {
      "cell_type": "code",
      "metadata": {
        "id": "F_98koXj7YC1",
        "colab_type": "code",
        "colab": {}
      },
      "source": [
        "class NeuralNetwork:\n",
        "    def __init__(self, inputs=13, hiddenNodes=13, outputNodes=1):\n",
        "        # Set up Architetecture\n",
        "        self.inputs = inputs\n",
        "        self.hiddenNodes = hiddenNodes\n",
        "        self.outputNodes = outputNodes\n",
        "\n",
        "        #Initial weights\n",
        "        self.weights1 = np.random.randn(self.inputs, self.hiddenNodes) #2x3\n",
        "        self.weights2 = np.random.rand(self.hiddenNodes, self.outputNodes) #3x1\n",
        "\n",
        "    def sigmoid(self, s):\n",
        "        return 1 / (1+np.exp(-s))\n",
        "\n",
        "    def sigmoidPrime(self, s):\n",
        "        return s * (1 - s)\n",
        "\n",
        "    def feed_forward(self, X):\n",
        "        \"\"\"\n",
        "        Calculate the NN inference using feed forward.\n",
        "        \"\"\"\n",
        "\n",
        "        #Weighted sume of inputs and hidden layer\n",
        "        self.hidden_sum = np.dot(X, self.weights1)\n",
        "\n",
        "        #Acivations of weighted sum\n",
        "        self.activated_hidden = self.sigmoid(self.hidden_sum)\n",
        "\n",
        "        # Weight sum between hidden and output\n",
        "        self.output_sum = np.dot(self.activated_hidden, self.weights2)\n",
        "\n",
        "        #Final activation of output\n",
        "        self.activated_output = self.sigmoid(self.output_sum)\n",
        "\n",
        "        return self.activated_output\n",
        "\n",
        "    def backward(self, X, y, o):\n",
        "        \"\"\"\n",
        "        Backward propagate through the network\n",
        "        \"\"\"\n",
        "        self.o_error = y - o #error in output\n",
        "        self.o_delta = self.o_error * self.sigmoidPrime(o) # apply derivative of sigmoid to error\n",
        "\n",
        "        self.z2_error = self.o_delta.dot(self.weights2.T) # z2 error: how much our hidden layer weights were off\n",
        "        self.z2_delta = self.z2_error*self.sigmoidPrime(self.activated_hidden)\n",
        "\n",
        "        self.weights1 += X.T.dot(self.z2_delta) #Adjust first set (input => hidden) weights\n",
        "        self.weights2 += self.activated_hidden.T.dot(self.o_delta) #adjust second set (hidden => output) weights\n",
        "\n",
        "    def train(self, X, y):\n",
        "        o = self.feed_forward(X)\n",
        "        self.backward(X, y, o)"
      ],
      "execution_count": 0,
      "outputs": []
    },
    {
      "cell_type": "code",
      "metadata": {
        "id": "hEQ-5OtD7YC4",
        "colab_type": "code",
        "colab": {
          "base_uri": "https://localhost:8080/",
          "height": 527
        },
        "outputId": "b092c109-9ddf-4131-d9ba-479628a9247d"
      },
      "source": [
        "from sklearn.metrics import accuracy_score as a_s\n",
        "nn = NeuralNetwork()\n",
        "\n",
        "for i in range(1000):\n",
        "    if (i+1 in [1,2,3,4,5]) or ((i+1) % 200 == 0):\n",
        "        print('+' + '---' * 3 + f'EPOCH {i+1}' + '---'*3 + '+')\n",
        "        print(\"Accuracy: \\n\", str(a_s(y_train, np.round(nn.feed_forward(X_train)))))\n",
        "    nn.train(X_train, y_train)"
      ],
      "execution_count": 7,
      "outputs": [
        {
          "output_type": "stream",
          "text": [
            "+---------EPOCH 1---------+\n",
            "Accuracy: \n",
            " 0.4581497797356828\n",
            "+---------EPOCH 2---------+\n",
            "Accuracy: \n",
            " 0.5418502202643172\n",
            "+---------EPOCH 3---------+\n",
            "Accuracy: \n",
            " 0.5418502202643172\n",
            "+---------EPOCH 4---------+\n",
            "Accuracy: \n",
            " 0.5418502202643172\n",
            "+---------EPOCH 5---------+\n",
            "Accuracy: \n",
            " 0.5418502202643172\n",
            "+---------EPOCH 200---------+\n",
            "Accuracy: \n",
            " 0.9647577092511013\n",
            "+---------EPOCH 400---------+\n",
            "Accuracy: \n",
            " 0.9647577092511013\n",
            "+---------EPOCH 600---------+\n",
            "Accuracy: \n",
            " 0.9647577092511013\n",
            "+---------EPOCH 800---------+\n",
            "Accuracy: \n",
            " 0.9647577092511013\n",
            "+---------EPOCH 1000---------+\n",
            "Accuracy: \n",
            " 0.9691629955947136\n"
          ],
          "name": "stdout"
        }
      ]
    },
    {
      "cell_type": "code",
      "metadata": {
        "id": "KgXAZPv-7YC_",
        "colab_type": "code",
        "colab": {
          "base_uri": "https://localhost:8080/",
          "height": 51
        },
        "outputId": "17fe1379-67bc-450f-8d94-f4c2f9deeec7"
      },
      "source": [
        "print(\"Test Accuracy: \\n\", str(a_s(y_test, np.round(nn.feed_forward(X_test)))))"
      ],
      "execution_count": 8,
      "outputs": [
        {
          "output_type": "stream",
          "text": [
            "Test Accuracy: \n",
            " 0.8157894736842105\n"
          ],
          "name": "stdout"
        }
      ]
    },
    {
      "cell_type": "markdown",
      "metadata": {
        "id": "dEvkShBm7YDC",
        "colab_type": "text"
      },
      "source": [
        "## 4. Keras MMP <a id=\"Q4\"></a>\n",
        " \n",
        " - Implement a Multilayer Perceptron architecture of your choosing using the Keras library.\n",
        " - Train your model and report its baseline accuracy. \n"
      ]
    },
    {
      "cell_type": "code",
      "metadata": {
        "id": "NSb9qSbP7YDD",
        "colab_type": "code",
        "colab": {
          "base_uri": "https://localhost:8080/",
          "height": 34
        },
        "outputId": "96c30777-cea1-4b1b-bf94-c5369dd36f18"
      },
      "source": [
        "!tensorflow --version"
      ],
      "execution_count": 9,
      "outputs": [
        {
          "output_type": "stream",
          "text": [
            "/bin/bash: tensorflow: command not found\n"
          ],
          "name": "stdout"
        }
      ]
    },
    {
      "cell_type": "code",
      "metadata": {
        "inputHidden": false,
        "jupyter": {
          "outputs_hidden": false
        },
        "outputHidden": false,
        "id": "x60YRsPA7YDH",
        "colab_type": "code",
        "colab": {}
      },
      "source": [
        "from tensorflow.keras.models import Sequential\n",
        "from tensorflow.keras.layers import Dense, Dropout\n",
        "\n",
        "model = Sequential()\n",
        "model.add(Dense(30, input_dim=13, activation='relu'))\n",
        "model.add(Dropout(0.2))\n",
        "model.add(Dense(25, activation='relu'))\n",
        "model.add(Dropout(0.2))\n",
        "model.add(Dense(1, activation='sigmoid'))\n",
        "model.compile(loss='binary_crossentropy', optimizer='adam', metrics=['accuracy'])\n",
        "history = model.fit(X_train, y_train, epochs=150, verbose=0)\n",
        "\n",
        "scores = model.evaluate(X_train, y_train)\n",
        "print(\"train \", scores)\n",
        "scores = model.evaluate(X_test, y_test)\n",
        "print(\"test \", scores)"
      ],
      "execution_count": 0,
      "outputs": []
    },
    {
      "cell_type": "markdown",
      "metadata": {
        "id": "qkX7BYV37w47",
        "colab_type": "text"
      },
      "source": [
        " - Then hyperparameter tune at least two parameters and report your model's accuracy.\n",
        " - Use an appropriate loss function for a binary classification task\n",
        " - Use an appropriate activation function on the final layer of your network.\n",
        " - Train your model using verbose output for ease of grading.\n",
        " - Use GridSearchCV to hyperparameter tune your model. (for at least two hyperparameters)\n",
        " - When hyperparameter tuning, show you work by adding code cells for each new experiment.\n",
        " - Report the accuracy for each combination of hyperparameters as you test them so that we can easily see which resulted in the highest accuracy.\n",
        " - You must hyperparameter tune at least 5 parameters in order to get a 3 on this section."
      ]
    },
    {
      "cell_type": "code",
      "metadata": {
        "id": "vhk0ynnI7hky",
        "colab_type": "code",
        "colab": {}
      },
      "source": [
        "from tensorflow.keras.models import Sequential\n",
        "from tensorflow.keras.layers import Dense, Dropout\n",
        "\n",
        "def create_model(optimizer='adam', activation='relu', init_mode='uniform',\n",
        "                 dropout_rate=0.2, neurons=15, lr=0.01, momentum=0):\n",
        "  model = Sequential()\n",
        "  model.add(Dense(neurons, input_dim=13, activation=activation))\n",
        "  model.add(Dense(25, activation='relu'))\n",
        "  model.add(Dropout(0.2))\n",
        "  model.add(Dense(1, activation='sigmoid'))\n",
        "\n",
        "  model.compile(loss='binary_crossentropy', optimizer=optimizer, metrics=['accuracy'])\n",
        "  return model\n",
        "\n",
        "from keras.wrappers.scikit_learn import KerasClassifier\n",
        "\n",
        "model = KerasClassifier(build_fn=create_model, verbose=1)\n",
        "\n",
        "param_grid = {\"batch_size\":[10],\n",
        "#               \"epochs\": [20],\n",
        "#               \"optimizer\": ['adam', 'SGD'],\n",
        "              \"lr\": [0.001, 0.1],\n",
        "#               \"momentum\": [0, 0.5],\n",
        "              \"activation\": ['relu', 'sigmoid'],\n",
        "              \"init_mode\":['uniform', 'glorot_normal'],\n",
        "              \"dropout_rate\": [0, 0.2, 0.6],\n",
        "              \"neurons\": [30]\n",
        "}\n",
        "\n",
        "model.check_params(param_grid)"
      ],
      "execution_count": 0,
      "outputs": []
    },
    {
      "cell_type": "code",
      "metadata": {
        "id": "Eqv4RUTH8nLB",
        "colab_type": "code",
        "colab": {
          "base_uri": "https://localhost:8080/",
          "height": 1000
        },
        "outputId": "7b36b93d-1f08-4586-accc-e4f502c32f2b"
      },
      "source": [
        "from sklearn.model_selection import GridSearchCV\n",
        "\n",
        "grid = GridSearchCV(estimator=model, param_grid=param_grid, n_jobs=-1)\n",
        "grid_result = grid.fit(X_train, y_train, epochs=100)\n",
        "# summarize results\n",
        "print(\"Best: %f using %s\" % (grid_result.best_score_, grid_result.best_params_))\n",
        "means = grid_result.cv_results_['mean_test_score']\n",
        "stds = grid_result.cv_results_['std_test_score']\n",
        "params = grid_result.cv_results_['params']\n",
        "for mean, stdev, param in zip(means, stds, params):\n",
        "    print(\"%f (%f) with: %r\" % (mean, stdev, param))"
      ],
      "execution_count": 16,
      "outputs": [
        {
          "output_type": "stream",
          "text": [
            "/usr/local/lib/python3.6/dist-packages/sklearn/model_selection/_split.py:1978: FutureWarning: The default value of cv will change from 3 to 5 in version 0.22. Specify it explicitly to silence this warning.\n",
            "  warnings.warn(CV_WARNING, FutureWarning)\n",
            "/usr/local/lib/python3.6/dist-packages/joblib/externals/loky/process_executor.py:706: UserWarning: A worker stopped while some jobs were given to the executor. This can be caused by a too short worker timeout or by a memory leak.\n",
            "  \"timeout or by a memory leak.\", UserWarning\n"
          ],
          "name": "stderr"
        },
        {
          "output_type": "stream",
          "text": [
            "Epoch 1/100\n",
            "227/227 [==============================] - 0s 571us/sample - loss: 0.7847 - acc: 0.4581\n",
            "Epoch 2/100\n",
            "227/227 [==============================] - 0s 165us/sample - loss: 0.6951 - acc: 0.5242\n",
            "Epoch 3/100\n",
            "227/227 [==============================] - 0s 171us/sample - loss: 0.6623 - acc: 0.7357\n",
            "Epoch 4/100\n",
            "227/227 [==============================] - 0s 156us/sample - loss: 0.6412 - acc: 0.7753\n",
            "Epoch 5/100\n",
            "227/227 [==============================] - 0s 151us/sample - loss: 0.6205 - acc: 0.7665\n",
            "Epoch 6/100\n",
            "227/227 [==============================] - 0s 159us/sample - loss: 0.5975 - acc: 0.7930\n",
            "Epoch 7/100\n",
            "227/227 [==============================] - 0s 160us/sample - loss: 0.5735 - acc: 0.8106\n",
            "Epoch 8/100\n",
            "227/227 [==============================] - 0s 167us/sample - loss: 0.5470 - acc: 0.8194\n",
            "Epoch 9/100\n",
            "227/227 [==============================] - 0s 183us/sample - loss: 0.5238 - acc: 0.8238\n",
            "Epoch 10/100\n",
            "227/227 [==============================] - 0s 155us/sample - loss: 0.4988 - acc: 0.8326\n",
            "Epoch 11/100\n",
            "227/227 [==============================] - 0s 179us/sample - loss: 0.4797 - acc: 0.8326\n",
            "Epoch 12/100\n",
            "227/227 [==============================] - 0s 177us/sample - loss: 0.4611 - acc: 0.8238\n",
            "Epoch 13/100\n",
            "227/227 [==============================] - 0s 165us/sample - loss: 0.4461 - acc: 0.8370\n",
            "Epoch 14/100\n",
            "227/227 [==============================] - 0s 166us/sample - loss: 0.4322 - acc: 0.8370\n",
            "Epoch 15/100\n",
            "227/227 [==============================] - 0s 164us/sample - loss: 0.4222 - acc: 0.8370\n",
            "Epoch 16/100\n",
            "227/227 [==============================] - 0s 178us/sample - loss: 0.4134 - acc: 0.8414\n",
            "Epoch 17/100\n",
            "227/227 [==============================] - 0s 160us/sample - loss: 0.4076 - acc: 0.8414\n",
            "Epoch 18/100\n",
            "227/227 [==============================] - 0s 179us/sample - loss: 0.4005 - acc: 0.8414\n",
            "Epoch 19/100\n",
            "227/227 [==============================] - 0s 157us/sample - loss: 0.3962 - acc: 0.8414\n",
            "Epoch 20/100\n",
            "227/227 [==============================] - 0s 164us/sample - loss: 0.3932 - acc: 0.8414\n",
            "Epoch 21/100\n",
            "227/227 [==============================] - 0s 159us/sample - loss: 0.3888 - acc: 0.8414\n",
            "Epoch 22/100\n",
            "227/227 [==============================] - 0s 193us/sample - loss: 0.3858 - acc: 0.8414\n",
            "Epoch 23/100\n",
            "227/227 [==============================] - 0s 175us/sample - loss: 0.3840 - acc: 0.8414\n",
            "Epoch 24/100\n",
            "227/227 [==============================] - 0s 168us/sample - loss: 0.3810 - acc: 0.8458\n",
            "Epoch 25/100\n",
            "227/227 [==============================] - 0s 189us/sample - loss: 0.3799 - acc: 0.8414\n",
            "Epoch 26/100\n",
            "227/227 [==============================] - 0s 166us/sample - loss: 0.3769 - acc: 0.8414\n",
            "Epoch 27/100\n",
            "227/227 [==============================] - 0s 160us/sample - loss: 0.3759 - acc: 0.8414\n",
            "Epoch 28/100\n",
            "227/227 [==============================] - 0s 165us/sample - loss: 0.3749 - acc: 0.8458\n",
            "Epoch 29/100\n",
            "227/227 [==============================] - 0s 167us/sample - loss: 0.3738 - acc: 0.8458\n",
            "Epoch 30/100\n",
            "227/227 [==============================] - 0s 159us/sample - loss: 0.3720 - acc: 0.8458\n",
            "Epoch 31/100\n",
            "227/227 [==============================] - 0s 180us/sample - loss: 0.3707 - acc: 0.8458\n",
            "Epoch 32/100\n",
            "227/227 [==============================] - 0s 160us/sample - loss: 0.3696 - acc: 0.8502\n",
            "Epoch 33/100\n",
            "227/227 [==============================] - 0s 174us/sample - loss: 0.3705 - acc: 0.8458\n",
            "Epoch 34/100\n",
            "227/227 [==============================] - 0s 161us/sample - loss: 0.3670 - acc: 0.8458\n",
            "Epoch 35/100\n",
            "227/227 [==============================] - 0s 161us/sample - loss: 0.3668 - acc: 0.8502\n",
            "Epoch 36/100\n",
            "227/227 [==============================] - 0s 163us/sample - loss: 0.3673 - acc: 0.8502\n",
            "Epoch 37/100\n",
            "227/227 [==============================] - 0s 167us/sample - loss: 0.3650 - acc: 0.8502\n",
            "Epoch 38/100\n",
            "227/227 [==============================] - 0s 151us/sample - loss: 0.3640 - acc: 0.8502\n",
            "Epoch 39/100\n",
            "227/227 [==============================] - 0s 167us/sample - loss: 0.3636 - acc: 0.8502\n",
            "Epoch 40/100\n",
            "227/227 [==============================] - 0s 174us/sample - loss: 0.3633 - acc: 0.8502\n",
            "Epoch 41/100\n",
            "227/227 [==============================] - 0s 192us/sample - loss: 0.3625 - acc: 0.8502\n",
            "Epoch 42/100\n",
            "227/227 [==============================] - 0s 161us/sample - loss: 0.3627 - acc: 0.8502\n",
            "Epoch 43/100\n",
            "227/227 [==============================] - 0s 163us/sample - loss: 0.3610 - acc: 0.8502\n",
            "Epoch 44/100\n",
            "227/227 [==============================] - 0s 187us/sample - loss: 0.3615 - acc: 0.8502\n",
            "Epoch 45/100\n",
            "227/227 [==============================] - 0s 158us/sample - loss: 0.3606 - acc: 0.8502\n",
            "Epoch 46/100\n",
            "227/227 [==============================] - 0s 172us/sample - loss: 0.3594 - acc: 0.8502\n",
            "Epoch 47/100\n",
            "227/227 [==============================] - 0s 157us/sample - loss: 0.3589 - acc: 0.8546\n",
            "Epoch 48/100\n",
            "227/227 [==============================] - 0s 161us/sample - loss: 0.3588 - acc: 0.8502\n",
            "Epoch 49/100\n",
            "227/227 [==============================] - 0s 173us/sample - loss: 0.3605 - acc: 0.8502\n",
            "Epoch 50/100\n",
            "227/227 [==============================] - 0s 155us/sample - loss: 0.3578 - acc: 0.8546\n",
            "Epoch 51/100\n",
            "227/227 [==============================] - 0s 159us/sample - loss: 0.3585 - acc: 0.8546\n",
            "Epoch 52/100\n",
            "227/227 [==============================] - 0s 169us/sample - loss: 0.3569 - acc: 0.8546\n",
            "Epoch 53/100\n",
            "227/227 [==============================] - 0s 150us/sample - loss: 0.3566 - acc: 0.8546\n",
            "Epoch 54/100\n",
            "227/227 [==============================] - 0s 154us/sample - loss: 0.3581 - acc: 0.8546\n",
            "Epoch 55/100\n",
            "227/227 [==============================] - 0s 183us/sample - loss: 0.3566 - acc: 0.8590\n",
            "Epoch 56/100\n",
            "227/227 [==============================] - 0s 168us/sample - loss: 0.3559 - acc: 0.8546\n",
            "Epoch 57/100\n",
            "227/227 [==============================] - 0s 167us/sample - loss: 0.3551 - acc: 0.8546\n",
            "Epoch 58/100\n",
            "227/227 [==============================] - 0s 159us/sample - loss: 0.3545 - acc: 0.8590\n",
            "Epoch 59/100\n",
            "227/227 [==============================] - 0s 167us/sample - loss: 0.3541 - acc: 0.8590\n",
            "Epoch 60/100\n",
            "227/227 [==============================] - 0s 162us/sample - loss: 0.3543 - acc: 0.8590\n",
            "Epoch 61/100\n",
            "227/227 [==============================] - 0s 169us/sample - loss: 0.3531 - acc: 0.8590\n",
            "Epoch 62/100\n",
            "227/227 [==============================] - 0s 160us/sample - loss: 0.3531 - acc: 0.8590\n",
            "Epoch 63/100\n",
            "227/227 [==============================] - 0s 179us/sample - loss: 0.3538 - acc: 0.8590\n",
            "Epoch 64/100\n",
            "227/227 [==============================] - 0s 165us/sample - loss: 0.3522 - acc: 0.8590\n",
            "Epoch 65/100\n",
            "227/227 [==============================] - 0s 163us/sample - loss: 0.3518 - acc: 0.8590\n",
            "Epoch 66/100\n",
            "227/227 [==============================] - 0s 169us/sample - loss: 0.3516 - acc: 0.8590\n",
            "Epoch 67/100\n",
            "227/227 [==============================] - 0s 162us/sample - loss: 0.3513 - acc: 0.8590\n",
            "Epoch 68/100\n",
            "227/227 [==============================] - 0s 165us/sample - loss: 0.3527 - acc: 0.8590\n",
            "Epoch 69/100\n",
            "227/227 [==============================] - 0s 155us/sample - loss: 0.3514 - acc: 0.8590\n",
            "Epoch 70/100\n",
            "227/227 [==============================] - 0s 185us/sample - loss: 0.3503 - acc: 0.8590\n",
            "Epoch 71/100\n",
            "227/227 [==============================] - 0s 156us/sample - loss: 0.3506 - acc: 0.8634\n",
            "Epoch 72/100\n",
            "227/227 [==============================] - 0s 154us/sample - loss: 0.3500 - acc: 0.8590\n",
            "Epoch 73/100\n",
            "227/227 [==============================] - 0s 164us/sample - loss: 0.3495 - acc: 0.8634\n",
            "Epoch 74/100\n",
            "227/227 [==============================] - 0s 158us/sample - loss: 0.3493 - acc: 0.8590\n",
            "Epoch 75/100\n",
            "227/227 [==============================] - 0s 182us/sample - loss: 0.3514 - acc: 0.8546\n",
            "Epoch 76/100\n",
            "227/227 [==============================] - 0s 169us/sample - loss: 0.3482 - acc: 0.8634\n",
            "Epoch 77/100\n",
            "227/227 [==============================] - 0s 166us/sample - loss: 0.3488 - acc: 0.8590\n",
            "Epoch 78/100\n",
            "227/227 [==============================] - 0s 168us/sample - loss: 0.3520 - acc: 0.8634\n",
            "Epoch 79/100\n",
            "227/227 [==============================] - 0s 166us/sample - loss: 0.3479 - acc: 0.8634\n",
            "Epoch 80/100\n",
            "227/227 [==============================] - 0s 177us/sample - loss: 0.3471 - acc: 0.8634\n",
            "Epoch 81/100\n",
            "227/227 [==============================] - 0s 160us/sample - loss: 0.3478 - acc: 0.8634\n",
            "Epoch 82/100\n",
            "227/227 [==============================] - 0s 164us/sample - loss: 0.3487 - acc: 0.8634\n",
            "Epoch 83/100\n",
            "227/227 [==============================] - 0s 158us/sample - loss: 0.3476 - acc: 0.8590\n",
            "Epoch 84/100\n",
            "227/227 [==============================] - 0s 181us/sample - loss: 0.3460 - acc: 0.8634\n",
            "Epoch 85/100\n",
            "227/227 [==============================] - 0s 160us/sample - loss: 0.3467 - acc: 0.8590\n",
            "Epoch 86/100\n",
            "227/227 [==============================] - 0s 160us/sample - loss: 0.3463 - acc: 0.8634\n",
            "Epoch 87/100\n",
            "227/227 [==============================] - 0s 167us/sample - loss: 0.3454 - acc: 0.8634\n",
            "Epoch 88/100\n",
            "227/227 [==============================] - 0s 159us/sample - loss: 0.3456 - acc: 0.8634\n",
            "Epoch 89/100\n",
            "227/227 [==============================] - 0s 159us/sample - loss: 0.3443 - acc: 0.8634\n",
            "Epoch 90/100\n",
            "227/227 [==============================] - 0s 157us/sample - loss: 0.3452 - acc: 0.8634\n",
            "Epoch 91/100\n",
            "227/227 [==============================] - 0s 163us/sample - loss: 0.3457 - acc: 0.8634\n",
            "Epoch 92/100\n",
            "227/227 [==============================] - 0s 160us/sample - loss: 0.3447 - acc: 0.8678\n",
            "Epoch 93/100\n",
            "227/227 [==============================] - 0s 166us/sample - loss: 0.3435 - acc: 0.8634\n",
            "Epoch 94/100\n",
            "227/227 [==============================] - 0s 167us/sample - loss: 0.3434 - acc: 0.8634\n",
            "Epoch 95/100\n",
            "227/227 [==============================] - 0s 163us/sample - loss: 0.3440 - acc: 0.8634\n",
            "Epoch 96/100\n",
            "227/227 [==============================] - 0s 156us/sample - loss: 0.3433 - acc: 0.8634\n",
            "Epoch 97/100\n",
            "227/227 [==============================] - 0s 164us/sample - loss: 0.3430 - acc: 0.8634\n",
            "Epoch 98/100\n",
            "227/227 [==============================] - 0s 159us/sample - loss: 0.3424 - acc: 0.8678\n",
            "Epoch 99/100\n",
            "227/227 [==============================] - 0s 197us/sample - loss: 0.3436 - acc: 0.8634\n",
            "Epoch 100/100\n",
            "227/227 [==============================] - 0s 156us/sample - loss: 0.3419 - acc: 0.8678\n",
            "Best: 0.823789 using {'activation': 'sigmoid', 'batch_size': 10, 'dropout_rate': 0, 'init_mode': 'uniform', 'lr': 0.001, 'neurons': 30}\n",
            "0.770925 (0.024207) with: {'activation': 'relu', 'batch_size': 10, 'dropout_rate': 0, 'init_mode': 'uniform', 'lr': 0.001, 'neurons': 30}\n",
            "0.784141 (0.026976) with: {'activation': 'relu', 'batch_size': 10, 'dropout_rate': 0, 'init_mode': 'uniform', 'lr': 0.1, 'neurons': 30}\n",
            "0.775330 (0.037910) with: {'activation': 'relu', 'batch_size': 10, 'dropout_rate': 0, 'init_mode': 'glorot_normal', 'lr': 0.001, 'neurons': 30}\n",
            "0.797357 (0.021281) with: {'activation': 'relu', 'batch_size': 10, 'dropout_rate': 0, 'init_mode': 'glorot_normal', 'lr': 0.1, 'neurons': 30}\n",
            "0.788546 (0.027692) with: {'activation': 'relu', 'batch_size': 10, 'dropout_rate': 0.2, 'init_mode': 'uniform', 'lr': 0.001, 'neurons': 30}\n",
            "0.814978 (0.028142) with: {'activation': 'relu', 'batch_size': 10, 'dropout_rate': 0.2, 'init_mode': 'uniform', 'lr': 0.1, 'neurons': 30}\n",
            "0.806167 (0.027264) with: {'activation': 'relu', 'batch_size': 10, 'dropout_rate': 0.2, 'init_mode': 'glorot_normal', 'lr': 0.001, 'neurons': 30}\n",
            "0.797357 (0.016257) with: {'activation': 'relu', 'batch_size': 10, 'dropout_rate': 0.2, 'init_mode': 'glorot_normal', 'lr': 0.1, 'neurons': 30}\n",
            "0.788546 (0.001320) with: {'activation': 'relu', 'batch_size': 10, 'dropout_rate': 0.6, 'init_mode': 'uniform', 'lr': 0.001, 'neurons': 30}\n",
            "0.814978 (0.011818) with: {'activation': 'relu', 'batch_size': 10, 'dropout_rate': 0.6, 'init_mode': 'uniform', 'lr': 0.1, 'neurons': 30}\n",
            "0.806167 (0.006910) with: {'activation': 'relu', 'batch_size': 10, 'dropout_rate': 0.6, 'init_mode': 'glorot_normal', 'lr': 0.001, 'neurons': 30}\n",
            "0.819383 (0.013616) with: {'activation': 'relu', 'batch_size': 10, 'dropout_rate': 0.6, 'init_mode': 'glorot_normal', 'lr': 0.1, 'neurons': 30}\n",
            "0.823789 (0.013033) with: {'activation': 'sigmoid', 'batch_size': 10, 'dropout_rate': 0, 'init_mode': 'uniform', 'lr': 0.001, 'neurons': 30}\n",
            "0.814978 (0.018118) with: {'activation': 'sigmoid', 'batch_size': 10, 'dropout_rate': 0, 'init_mode': 'uniform', 'lr': 0.1, 'neurons': 30}\n",
            "0.823789 (0.005751) with: {'activation': 'sigmoid', 'batch_size': 10, 'dropout_rate': 0, 'init_mode': 'glorot_normal', 'lr': 0.001, 'neurons': 30}\n",
            "0.814978 (0.010829) with: {'activation': 'sigmoid', 'batch_size': 10, 'dropout_rate': 0, 'init_mode': 'glorot_normal', 'lr': 0.1, 'neurons': 30}\n",
            "0.814978 (0.019275) with: {'activation': 'sigmoid', 'batch_size': 10, 'dropout_rate': 0.2, 'init_mode': 'uniform', 'lr': 0.001, 'neurons': 30}\n",
            "0.801762 (0.021570) with: {'activation': 'sigmoid', 'batch_size': 10, 'dropout_rate': 0.2, 'init_mode': 'uniform', 'lr': 0.1, 'neurons': 30}\n",
            "0.819383 (0.022133) with: {'activation': 'sigmoid', 'batch_size': 10, 'dropout_rate': 0.2, 'init_mode': 'glorot_normal', 'lr': 0.001, 'neurons': 30}\n",
            "0.819383 (0.011921) with: {'activation': 'sigmoid', 'batch_size': 10, 'dropout_rate': 0.2, 'init_mode': 'glorot_normal', 'lr': 0.1, 'neurons': 30}\n",
            "0.819383 (0.023604) with: {'activation': 'sigmoid', 'batch_size': 10, 'dropout_rate': 0.6, 'init_mode': 'uniform', 'lr': 0.001, 'neurons': 30}\n",
            "0.819383 (0.017358) with: {'activation': 'sigmoid', 'batch_size': 10, 'dropout_rate': 0.6, 'init_mode': 'uniform', 'lr': 0.1, 'neurons': 30}\n",
            "0.806167 (0.025522) with: {'activation': 'sigmoid', 'batch_size': 10, 'dropout_rate': 0.6, 'init_mode': 'glorot_normal', 'lr': 0.001, 'neurons': 30}\n",
            "0.810573 (0.023299) with: {'activation': 'sigmoid', 'batch_size': 10, 'dropout_rate': 0.6, 'init_mode': 'glorot_normal', 'lr': 0.1, 'neurons': 30}\n"
          ],
          "name": "stdout"
        }
      ]
    },
    {
      "cell_type": "markdown",
      "metadata": {
        "id": "5S_9snzc9vGe",
        "colab_type": "text"
      },
      "source": [
        "\n",
        "\n",
        "```\n",
        "Best: 0.823789 using {'activation': 'sigmoid', 'batch_size': 10, 'dropout_rate': 0, 'init_mode': 'uniform', 'lr': 0.001, 'neurons': 30}\n",
        "```\n",
        "\n"
      ]
    },
    {
      "cell_type": "code",
      "metadata": {
        "id": "fHm8kS1L-iIN",
        "colab_type": "code",
        "colab": {}
      },
      "source": [
        "model = KerasClassifier(build_fn=create_model, verbose=1)\n",
        "\n",
        "param_grid = {\"batch_size\":[10, 30, 50],\n",
        "#               \"epochs\": [20],\n",
        "              \"optimizer\": ['adam', 'SGD'],\n",
        "              \"lr\": [0.001, 0.1],\n",
        "              \"momentum\": [0, 0.5],\n",
        "              \"activation\": ['relu', 'sigmoid'],\n",
        "              \"init_mode\":['uniform', 'glorot_normal'],\n",
        "              \"dropout_rate\": [0, 0.2, 0.6],\n",
        "              \"neurons\": [15, 25, 30]\n",
        "}\n",
        "\n",
        "model.check_params(param_grid)"
      ],
      "execution_count": 0,
      "outputs": []
    },
    {
      "cell_type": "code",
      "metadata": {
        "id": "Tn0IKpiI-k8p",
        "colab_type": "code",
        "colab": {
          "base_uri": "https://localhost:8080/",
          "height": 105
        },
        "outputId": "ab7091ff-21ec-48c8-ef85-49a40f6b37bc"
      },
      "source": [
        "from sklearn.model_selection import GridSearchCV\n",
        "\n",
        "grid = GridSearchCV(estimator=model, param_grid=param_grid, n_jobs=-1)\n",
        "grid_result = grid.fit(X_train, y_train, epochs=100)\n",
        "# summarize results\n",
        "print(\"Best: %f using %s\" % (grid_result.best_score_, grid_result.best_params_))\n",
        "means = grid_result.cv_results_['mean_test_score']\n",
        "stds = grid_result.cv_results_['std_test_score']\n",
        "params = grid_result.cv_results_['params']\n",
        "for mean, stdev, param in zip(means, stds, params):\n",
        "    print(\"%f (%f) with: %r\" % (mean, stdev, param))"
      ],
      "execution_count": 0,
      "outputs": [
        {
          "output_type": "stream",
          "text": [
            "/usr/local/lib/python3.6/dist-packages/sklearn/model_selection/_split.py:1978: FutureWarning: The default value of cv will change from 3 to 5 in version 0.22. Specify it explicitly to silence this warning.\n",
            "  warnings.warn(CV_WARNING, FutureWarning)\n",
            "/usr/local/lib/python3.6/dist-packages/joblib/externals/loky/process_executor.py:706: UserWarning: A worker stopped while some jobs were given to the executor. This can be caused by a too short worker timeout or by a memory leak.\n",
            "  \"timeout or by a memory leak.\", UserWarning\n"
          ],
          "name": "stderr"
        }
      ]
    }
  ]
}