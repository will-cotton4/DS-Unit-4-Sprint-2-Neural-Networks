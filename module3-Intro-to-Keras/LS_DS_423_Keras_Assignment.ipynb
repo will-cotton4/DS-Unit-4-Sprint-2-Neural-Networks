{
  "nbformat": 4,
  "nbformat_minor": 0,
  "metadata": {
    "colab": {
      "name": "LS_DS_433_Keras_Assignment.ipynb",
      "version": "0.3.2",
      "provenance": []
    },
    "kernelspec": {
      "name": "python3",
      "display_name": "Python 3"
    }
  },
  "cells": [
    {
      "cell_type": "markdown",
      "metadata": {
        "id": "pBQsZEJmubLs",
        "colab_type": "text"
      },
      "source": [
        "## Use the Keras Library to build a Multi-Layer Perceptron Model on the Boston Housing dataset\n",
        "\n",
        "- The Boston Housing dataset comes with the Keras library so use Keras to import it into your notebook. \n",
        "- Normalize the data (all features should have roughly the same scale)"
      ]
    },
    {
      "cell_type": "code",
      "metadata": {
        "id": "8NLTAR87uYJ-",
        "colab_type": "code",
        "colab": {
          "base_uri": "https://localhost:8080/",
          "height": 34
        },
        "outputId": "e762ccb9-4859-4d1d-9696-f376c01ffcef"
      },
      "source": [
        "import numpy as np\n",
        "import pandas as pd\n",
        "import matplotlib.pyplot as plt\n",
        "\n",
        "from keras.datasets import boston_housing\n",
        "\n",
        "from sklearn.preprocessing import StandardScaler\n",
        "(X_train, y_train), (X_test, y_test) = boston_housing.load_data()\n",
        "\n",
        "def clean_X(X):\n",
        "  X = X.copy()\n",
        "  scaler = StandardScaler().fit(X)\n",
        "  cleaned_x = scaler.transform(X)\n",
        "  return cleaned_x\n",
        "\n",
        "X_train = clean_X(X_train)\n",
        "X_test = clean_X(X_test)\n"
      ],
      "execution_count": 1,
      "outputs": [
        {
          "output_type": "stream",
          "text": [
            "Using TensorFlow backend.\n"
          ],
          "name": "stderr"
        }
      ]
    },
    {
      "cell_type": "markdown",
      "metadata": {
        "id": "JHm6pOGdbIK4",
        "colab_type": "text"
      },
      "source": [
        "- Import the type of model and layers that you will need from Keras.\n",
        "- Instantiate a model object and use `model.add()` to add layers to your model\n",
        "- Since this is a regression model you will have a single output node in the final layer.\n",
        "- Use activation functions that are appropriate for this task\n",
        "- Compile your model\n",
        "- Fit your model and report its accuracy in terms of Mean Squared Error"
      ]
    },
    {
      "cell_type": "code",
      "metadata": {
        "id": "dF20jFiBc92H",
        "colab_type": "code",
        "colab": {
          "base_uri": "https://localhost:8080/",
          "height": 51
        },
        "outputId": "ba9914ef-55a1-4df8-ffbb-878ac6b6c1db"
      },
      "source": [
        "# Baseline error:\n",
        "\n",
        "from sklearn.metrics import mean_squared_error\n",
        "y_train_pred = [y_train.mean()] * 404\n",
        "print(\"train\", mean_squared_error(y_train, y_train_pred))\n",
        "y_test_pred = [y_train.mean()] * 102\n",
        "print(\"test\", mean_squared_error(y_test, y_test_pred))"
      ],
      "execution_count": 2,
      "outputs": [
        {
          "output_type": "stream",
          "text": [
            "train 84.62225272032155\n",
            "test 83.71085929676252\n"
          ],
          "name": "stdout"
        }
      ]
    },
    {
      "cell_type": "code",
      "metadata": {
        "id": "iDQDYTBvaQqk",
        "colab_type": "code",
        "colab": {
          "base_uri": "https://localhost:8080/",
          "height": 173
        },
        "outputId": "9132cb27-df4e-4b9f-82b7-34711f333840"
      },
      "source": [
        "from tensorflow.keras.models import Sequential\n",
        "from tensorflow.keras.layers import Dense, Dropout\n",
        "\n",
        "model = Sequential()\n",
        "model.add(Dense(30, input_dim=13, activation='relu'))\n",
        "model.add(Dropout(0.2))\n",
        "model.add(Dense(25, activation='relu'))\n",
        "model.add(Dropout(0.2))\n",
        "model.add(Dense(1, activation='relu'))\n",
        "model.compile(loss='mean_squared_error', optimizer='adam')\n",
        "history = model.fit(X_train, y_train, epochs=150, verbose=0)\n",
        "\n",
        "scores = model.evaluate(X_train, y_train)\n",
        "print(\"train \", scores)\n",
        "scores = model.evaluate(X_test, y_test)\n",
        "print(\"test \", scores)"
      ],
      "execution_count": 3,
      "outputs": [
        {
          "output_type": "stream",
          "text": [
            "WARNING: Logging before flag parsing goes to stderr.\n",
            "W0717 22:08:37.787235 140451626960768 deprecation.py:506] From /usr/local/lib/python3.6/dist-packages/tensorflow/python/ops/init_ops.py:1251: calling VarianceScaling.__init__ (from tensorflow.python.ops.init_ops) with dtype is deprecated and will be removed in a future version.\n",
            "Instructions for updating:\n",
            "Call initializer instance with the dtype argument instead of passing it to the constructor\n"
          ],
          "name": "stderr"
        },
        {
          "output_type": "stream",
          "text": [
            "404/404 [==============================] - 0s 101us/sample - loss: 9.4083\n",
            "train  9.408286986964765\n",
            "102/102 [==============================] - 0s 78us/sample - loss: 20.3156\n",
            "test  20.315573449228324\n"
          ],
          "name": "stdout"
        }
      ]
    },
    {
      "cell_type": "markdown",
      "metadata": {
        "id": "2VETt_mqfE7_",
        "colab_type": "text"
      },
      "source": [
        "- Use the history object that is returned from model.fit to make graphs of the model's loss or train/validation accuracies by epoch. "
      ]
    },
    {
      "cell_type": "code",
      "metadata": {
        "id": "Y_d6VOedfEIW",
        "colab_type": "code",
        "colab": {
          "base_uri": "https://localhost:8080/",
          "height": 395
        },
        "outputId": "c29cf047-bbc2-4f0c-c5fa-2380d40d1695"
      },
      "source": [
        "fig, ax = plt.subplots(figsize=(16, 6))\n",
        "ax.scatter(x=history.epoch, y=history.history['loss'])"
      ],
      "execution_count": 4,
      "outputs": [
        {
          "output_type": "execute_result",
          "data": {
            "text/plain": [
              "<matplotlib.collections.PathCollection at 0x7fbd2a010b70>"
            ]
          },
          "metadata": {
            "tags": []
          },
          "execution_count": 4
        },
        {
          "output_type": "display_data",
          "data": {
            "image/png": "[encoded data removed]",
            "text/plain": [
              "<Figure size 1152x432 with 1 Axes>"
            ]
          },
          "metadata": {
            "tags": []
          }
        }
      ]
    },
    {
      "cell_type": "markdown",
      "metadata": {
        "id": "Aye4l8Jbf5DI",
        "colab_type": "text"
      },
      "source": [
        "- Run this same data through a linear regression model. Which achieves higher accuracy?\n"
      ]
    },
    {
      "cell_type": "code",
      "metadata": {
        "id": "QSfCVRPobzTh",
        "colab_type": "code",
        "colab": {
          "base_uri": "https://localhost:8080/",
          "height": 34
        },
        "outputId": "7b8d1f1c-8414-4f59-9b54-26b54895a6a0"
      },
      "source": [
        "from sklearn.linear_model import LinearRegression\n",
        "\n",
        "linReg = LinearRegression().fit(X_train, y_train)\n",
        "y_pred = linReg.predict(X_test)\n",
        "\n",
        "print(\"MSE:\", mean_squared_error(y_test, y_pred))"
      ],
      "execution_count": 5,
      "outputs": [
        {
          "output_type": "stream",
          "text": [
            "MSE: 20.982945190702573\n"
          ],
          "name": "stdout"
        }
      ]
    },
    {
      "cell_type": "markdown",
      "metadata": {
        "id": "HdIOIJbYf88B",
        "colab_type": "text"
      },
      "source": [
        "- Do a little bit of feature engineering and see how that affects your neural network model. (you will need to change your model to accept more inputs)\n",
        "- After feature engineering, which model sees a greater accuracy boost due to the new features?"
      ]
    },
    {
      "cell_type": "code",
      "metadata": {
        "id": "TSrtvDvQf4eI",
        "colab_type": "code",
        "colab": {}
      },
      "source": [
        "from sklearn.preprocessing import PolynomialFeatures\n",
        "\n",
        "def int_poly_features(X, deg):\n",
        "  X = X.copy()\n",
        "  poly = PolynomialFeatures(deg)\n",
        "  poly.fit(X)\n",
        "  feat_X = poly.transform(X)\n",
        "  return feat_X\n",
        "\n",
        "X_train = int_poly_features(X_train, 2)\n",
        "X_test = int_poly_features(X_test, 2)\n"
      ],
      "execution_count": 0,
      "outputs": []
    },
    {
      "cell_type": "code",
      "metadata": {
        "id": "fsatHjZ0hcaX",
        "colab_type": "code",
        "colab": {
          "base_uri": "https://localhost:8080/",
          "height": 85
        },
        "outputId": "af4dbd7d-a24b-488c-8261-7c37a4294ea7"
      },
      "source": [
        "from tensorflow.keras.models import Sequential\n",
        "from tensorflow.keras.layers import Dense\n",
        "\n",
        "model = Sequential()\n",
        "model.add(Dense(50, input_dim=X_train.shape[1], activation='relu'))\n",
        "model.add(Dense(50, activation='relu'))\n",
        "model.add(Dropout(0.2))\n",
        "model.add(Dense(50, activation='relu'))\n",
        "model.add(Dropout(0.2))\n",
        "model.add(Dense(50, activation='relu'))\n",
        "model.add(Dense(1, activation='relu'))\n",
        "model.compile(loss='mean_squared_error', optimizer='adam')\n",
        "history = model.fit(X_train, y_train, epochs=1000, verbose=0)\n",
        "\n",
        "scores = model.evaluate(X_train, y_train)\n",
        "print(\"train \", scores)\n",
        "scores = model.evaluate(X_test, y_test)\n",
        "print(\"test \", scores)"
      ],
      "execution_count": 7,
      "outputs": [
        {
          "output_type": "stream",
          "text": [
            "404/404 [==============================] - 0s 162us/sample - loss: 19.5068\n",
            "train  19.506787583379463\n",
            "102/102 [==============================] - 0s 90us/sample - loss: 32.6847\n",
            "test  32.68466799866919\n"
          ],
          "name": "stdout"
        }
      ]
    },
    {
      "cell_type": "code",
      "metadata": {
        "id": "ZNDrpw3dh5gq",
        "colab_type": "code",
        "colab": {
          "base_uri": "https://localhost:8080/",
          "height": 395
        },
        "outputId": "184e0e67-a693-438f-c2d3-9c700155a581"
      },
      "source": [
        "fig, ax = plt.subplots(figsize=(16, 6))\n",
        "ax.scatter(x=history.epoch, y=history.history['loss'])"
      ],
      "execution_count": 8,
      "outputs": [
        {
          "output_type": "execute_result",
          "data": {
            "text/plain": [
              "<matplotlib.collections.PathCollection at 0x7fbd26049400>"
            ]
          },
          "metadata": {
            "tags": []
          },
          "execution_count": 8
        },
        {
          "output_type": "display_data",
          "data": {
            "image/png": "[encoded data removed]",
            "text/plain": [
              "<Figure size 1152x432 with 1 Axes>"
            ]
          },
          "metadata": {
            "tags": []
          }
        }
      ]
    },
    {
      "cell_type": "code",
      "metadata": {
        "id": "5POZU0lNhdqL",
        "colab_type": "code",
        "colab": {
          "base_uri": "https://localhost:8080/",
          "height": 34
        },
        "outputId": "adf87e6e-c44a-45eb-cd6a-d7c03a6f8374"
      },
      "source": [
        "from sklearn.linear_model import LinearRegression\n",
        "\n",
        "linReg = LinearRegression().fit(X_train, y_train)\n",
        "y_pred = linReg.predict(X_test)\n",
        "\n",
        "print(\"MSE:\", mean_squared_error(y_test, y_pred))"
      ],
      "execution_count": 9,
      "outputs": [
        {
          "output_type": "stream",
          "text": [
            "MSE: 1.647824754026559e+24\n"
          ],
          "name": "stdout"
        }
      ]
    },
    {
      "cell_type": "markdown",
      "metadata": {
        "id": "SfcFnOONyuNm",
        "colab_type": "text"
      },
      "source": [
        "## Use the Keras Library to build an image recognition network using the Fashion-MNIST dataset (also comes with keras)\n",
        "\n",
        "- Load and preprocess the image data similar to how we preprocessed the MNIST data in class.\n",
        "- Make sure to one-hot encode your category labels"
      ]
    },
    {
      "cell_type": "code",
      "metadata": {
        "id": "szi6-IpuzaH1",
        "colab_type": "code",
        "colab": {}
      },
      "source": [
        "import keras\n",
        "import tensorflow as tf\n",
        "\n",
        "num_class = 10\n",
        "\n",
        "(X_train, y_train), (X_test, y_test) = tf.keras.datasets.fashion_mnist.load_data()\n",
        "\n",
        "X_train = X_train.reshape(60000, -1)\n",
        "X_test = X_test.reshape(10000, -1)\n",
        "\n",
        "y_train = keras.utils.to_categorical(y_train, num_class)\n",
        "y_test = keras.utils.to_categorical(y_test, num_class)"
      ],
      "execution_count": 0,
      "outputs": []
    },
    {
      "cell_type": "markdown",
      "metadata": {
        "id": "KXcHS_6zlOpZ",
        "colab_type": "text"
      },
      "source": [
        "- Make sure to have your final layer have as many nodes as the number of classes that you want to predict.\n",
        "- Try different hyperparameters. What is the highest accuracy that you are able to achieve.\n"
      ]
    },
    {
      "cell_type": "code",
      "metadata": {
        "id": "Abr0uv7imcA3",
        "colab_type": "code",
        "colab": {
          "base_uri": "https://localhost:8080/",
          "height": 323
        },
        "outputId": "ebf52523-0e22-45cb-c38b-0328dd461bdd"
      },
      "source": [
        "mnist_model = Sequential()\n",
        "#Input/hidden\n",
        "mnist_model.add(Dense(16, input_shape=(784, ), activation='relu'))\n",
        "mnist_model.add(Dropout(0.2))\n",
        "#Hidden\n",
        "mnist_model.add(Dense(16, activation='relu'))\n",
        "mnist_model.add(Dropout(0.2))\n",
        "#Output\n",
        "mnist_model.add(Dense(10, activation='softmax'))\n",
        "\n",
        "mnist_model.compile(loss='categorical_crossentropy', optimizer='adam', metrics=['accuracy'])\n",
        "mnist_model.summary()"
      ],
      "execution_count": 17,
      "outputs": [
        {
          "output_type": "stream",
          "text": [
            "Model: \"sequential_5\"\n",
            "_________________________________________________________________\n",
            "Layer (type)                 Output Shape              Param #   \n",
            "=================================================================\n",
            "dense_17 (Dense)             (None, 16)                12560     \n",
            "_________________________________________________________________\n",
            "dropout_7 (Dropout)          (None, 16)                0         \n",
            "_________________________________________________________________\n",
            "dense_18 (Dense)             (None, 16)                272       \n",
            "_________________________________________________________________\n",
            "dropout_8 (Dropout)          (None, 16)                0         \n",
            "_________________________________________________________________\n",
            "dense_19 (Dense)             (None, 10)                170       \n",
            "=================================================================\n",
            "Total params: 13,002\n",
            "Trainable params: 13,002\n",
            "Non-trainable params: 0\n",
            "_________________________________________________________________\n"
          ],
          "name": "stdout"
        }
      ]
    },
    {
      "cell_type": "code",
      "metadata": {
        "id": "wSHunISlmo1j",
        "colab_type": "code",
        "colab": {}
      },
      "source": [
        "epochs = 100\n",
        "history = mnist_model.fit(X_train, y_train, epochs=epochs, validation_split=.1, verbose=0)\n",
        "scores = mnist_model.evaluate(X_test, y_test)\n",
        "print(f'{mnist_model.metrics_names[1]}: {scores[1]*100}')"
      ],
      "execution_count": 0,
      "outputs": []
    },
    {
      "cell_type": "code",
      "metadata": {
        "id": "j42aeBX1rU4e",
        "colab_type": "code",
        "colab": {}
      },
      "source": [
        "fig, ax = plt.subplots(figsize=(16, 6))\n",
        "ax.scatter(x=history.epoch, y=history.history['loss'])"
      ],
      "execution_count": 0,
      "outputs": []
    },
    {
      "cell_type": "markdown",
      "metadata": {
        "id": "JYqK37kHlU5_",
        "colab_type": "text"
      },
      "source": [
        "- Use the history object that is returned from model.fit to make graphs of the model's loss or train/validation accuracies by epoch. \n",
        "- Remember that neural networks fall prey to randomness so you may need to run your model multiple times (or use Cross Validation) in order to tell if a change to a hyperparameter is truly producing better results."
      ]
    },
    {
      "cell_type": "markdown",
      "metadata": {
        "id": "zv_3xNMjzdLI",
        "colab_type": "text"
      },
      "source": [
        "## Stretch Goals:\n",
        "\n",
        "- Use Hyperparameter Tuning to make the accuracy of your models as high as possible. (error as low as possible)\n",
        "- Use Cross Validation techniques to get more consistent results with your model.\n",
        "- Use GridSearchCV to try different combinations of hyperparameters. \n",
        "- Start looking into other types of Keras layers for CNNs and RNNs maybe try and build a CNN model for fashion-MNIST to see how the results compare."
      ]
    }
  ]
}