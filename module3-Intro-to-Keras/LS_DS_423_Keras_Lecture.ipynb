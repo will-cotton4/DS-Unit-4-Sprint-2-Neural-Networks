{
  "nbformat": 4,
  "nbformat_minor": 0,
  "metadata": {
    "colab": {
      "name": "LS_DS_433_Keras_Lecture.ipynb",
      "version": "0.3.2",
      "provenance": [],
      "collapsed_sections": [],
      "include_colab_link": true
    },
    "kernelspec": {
      "name": "python3",
      "display_name": "Python 3"
    }
  },
  "cells": [
    {
      "cell_type": "markdown",
      "metadata": {
        "id": "view-in-github",
        "colab_type": "text"
      },
      "source": [
        "<a href=\"https://colab.research.google.com/github/will-cotton4/DS-Unit-4-Sprint-2-Neural-Networks/blob/master/module3-Intro-to-Keras/LS_DS_423_Keras_Lecture.ipynb\" target=\"_parent\"><img src=\"https://colab.research.google.com/assets/colab-badge.svg\" alt=\"Open In Colab\"/></a>"
      ]
    },
    {
      "cell_type": "markdown",
      "metadata": {
        "id": "HJzTIkYAsLxw",
        "colab_type": "text"
      },
      "source": [
        "# Lets Use Libraries!\n",
        "\n",
        "The objective of the last two days has been to familiarize you with the fundamentals of neural networks: terminology, structure of networks, forward propagation, error/cost functions, backpropagation, epochs, and gradient descent. We have tried to reinforce these topics by requiring to you code some of the simplest neural networks by hand including Perceptrons (single node neural networks) and Multi-Layer Perceptrons also known as Feed-Forward Neural Networks. Continuing to do things by hand would not be the best use of our limited time. You're ready to graduate from doing things by hand and start using some powerful libraries to build cutting-edge predictive models. "
      ]
    },
    {
      "cell_type": "markdown",
      "metadata": {
        "id": "MFYCXc5KdkPE",
        "colab_type": "text"
      },
      "source": [
        "# Keras\n",
        "\n",
        "> \"Keras is a high-level neural networks API, written in Python and capable of running on top of TensorFlow, CNTK, or Theano. It was developed with a focus on enabling fast experimentation. Being able to go from idea to result with the least possible delay is key to doing good research. Use Keras if you need a deep learning library that:\n",
        "\n",
        "> Allows for easy and fast prototyping (through user friendliness, modularity, and extensibility).\n",
        "Supports both convolutional networks and recurrent networks, as well as combinations of the two.\n",
        "Runs seamlessly on CPU and GPU.\" \n",
        "\n",
        "## Installation\n",
        "\n",
        "The Keras API is particularly straightforward and it already comes pre-installed on Google Colab! \n",
        "\n",
        "<img src=\"http://www.ryanleeallred.com/wp-content/uploads/2019/04/pip-freeze-keras.png\" width=\"300\">\n",
        "\n",
        "If you're not on Google Colab you'll need to install one of the \"backend\" engines that Keras runs on top of. I recommend Tensorflow:\n",
        "\n",
        "> `pip install tensorflow`\n",
        "\n",
        "Google Colab does not have the latest Tensorflow 2.0 installation, so you'll need to upgrade to that if you want to experiment with it. However Tensorflow 2.0 was just released last month and is still in \"alpha\" so if you **really** want to use the latest and greatest be prepared for odd bugs that you don't have control over every once in a while. <https://www.tensorflow.org/install/>"
      ]
    },
    {
      "cell_type": "code",
      "metadata": {
        "id": "QEncs0SOsFMT",
        "colab_type": "code",
        "colab": {}
      },
      "source": [
        "# Use pip freeze to see what packages/libraries your notebook has access to\n",
        "# !pip freeze"
      ],
      "execution_count": 0,
      "outputs": []
    },
    {
      "cell_type": "markdown",
      "metadata": {
        "id": "VxgUUpIKn54a",
        "colab_type": "text"
      },
      "source": [
        "## Our First Keras Model - Perceptron, Batch epochs\n",
        "\n",
        "1) Load Data\n",
        "\n",
        "2) Define Model\n",
        "\n",
        "3) Compile Model\n",
        "\n",
        "4) Fit Model\n",
        "\n",
        "5) Evaluate Model"
      ]
    },
    {
      "cell_type": "markdown",
      "metadata": {
        "id": "Md5D67XwqVAf",
        "colab_type": "text"
      },
      "source": [
        "### Load Data\n",
        "\n",
        "Our life is going to be easier if our data is already cleaned up and numeric, so lets use this dataset from Jason Brownlee that is already numeric and has no column headers so we'll need to slice off the last column of data to act as our y values."
      ]
    },
    {
      "cell_type": "code",
      "metadata": {
        "id": "bn09phMBpY1J",
        "colab_type": "code",
        "colab": {}
      },
      "source": [
        "import pandas as pd\n",
        "# https://raw.githubusercontent.com/jbrownlee/Datasets/master/pima-indians-diabetes.data.csv\n",
        "diabetes_url = 'https://raw.githubusercontent.com/jbrownlee/Datasets/master/pima-indians-diabetes.data.csv'\n",
        "# from google.colab import files\n",
        "# files.upload()\n",
        "dataset = pd.read_csv(diabetes_url, header=None)"
      ],
      "execution_count": 0,
      "outputs": []
    },
    {
      "cell_type": "code",
      "metadata": {
        "id": "FKuofD3Pogil",
        "colab_type": "code",
        "outputId": "06205d8a-a5e4-4c45-9bfa-32099652cdd3",
        "colab": {
          "base_uri": "https://localhost:8080/",
          "height": 714
        }
      },
      "source": [
        "# Load Pima Indians Dataset\n",
        "# dataset = numpy.loadtxt('pima-indians-diabetes.csv', delimiter=',')\n",
        "# Split into X and Y variables\n",
        "X = dataset.values[:,0:8]\n",
        "print(X.shape)\n",
        "print(X)\n",
        "y = dataset.values[:,-1]\n",
        "print(y.shape)\n",
        "print(y)"
      ],
      "execution_count": 5,
      "outputs": [
        {
          "output_type": "stream",
          "text": [
            "(768, 8)\n",
            "[[  6.    148.     72.    ...  33.6     0.627  50.   ]\n",
            " [  1.     85.     66.    ...  26.6     0.351  31.   ]\n",
            " [  8.    183.     64.    ...  23.3     0.672  32.   ]\n",
            " ...\n",
            " [  5.    121.     72.    ...  26.2     0.245  30.   ]\n",
            " [  1.    126.     60.    ...  30.1     0.349  47.   ]\n",
            " [  1.     93.     70.    ...  30.4     0.315  23.   ]]\n",
            "(768,)\n",
            "[1. 0. 1. 0. 1. 0. 1. 0. 1. 1. 0. 1. 0. 1. 1. 1. 1. 1. 0. 1. 0. 0. 1. 1.\n",
            " 1. 1. 1. 0. 0. 0. 0. 1. 0. 0. 0. 0. 0. 1. 1. 1. 0. 0. 0. 1. 0. 1. 0. 0.\n",
            " 1. 0. 0. 0. 0. 1. 0. 0. 1. 0. 0. 0. 0. 1. 0. 0. 1. 0. 1. 0. 0. 0. 1. 0.\n",
            " 1. 0. 0. 0. 0. 0. 1. 0. 0. 0. 0. 0. 1. 0. 0. 0. 1. 0. 0. 0. 0. 1. 0. 0.\n",
            " 0. 0. 0. 1. 1. 0. 0. 0. 0. 0. 0. 0. 0. 1. 1. 1. 0. 0. 1. 1. 1. 0. 0. 0.\n",
            " 1. 0. 0. 0. 1. 1. 0. 0. 1. 1. 1. 1. 1. 0. 0. 0. 0. 0. 0. 0. 0. 0. 0. 1.\n",
            " 0. 0. 0. 0. 0. 0. 0. 0. 1. 0. 1. 1. 0. 0. 0. 1. 0. 0. 0. 0. 1. 1. 0. 0.\n",
            " 0. 0. 1. 1. 0. 0. 0. 1. 0. 1. 0. 1. 0. 0. 0. 0. 0. 1. 1. 1. 1. 1. 0. 0.\n",
            " 1. 1. 0. 1. 0. 1. 1. 1. 0. 0. 0. 0. 0. 0. 1. 1. 0. 1. 0. 0. 0. 1. 1. 1.\n",
            " 1. 0. 1. 1. 1. 1. 0. 0. 0. 0. 0. 1. 0. 0. 1. 1. 0. 0. 0. 1. 1. 1. 1. 0.\n",
            " 0. 0. 1. 1. 0. 1. 0. 0. 0. 0. 0. 0. 0. 0. 1. 1. 0. 0. 0. 1. 0. 1. 0. 0.\n",
            " 1. 0. 1. 0. 0. 1. 1. 0. 0. 0. 0. 0. 1. 0. 0. 0. 1. 0. 0. 1. 1. 0. 0. 1.\n",
            " 0. 0. 0. 1. 1. 1. 0. 0. 1. 0. 1. 0. 1. 1. 0. 1. 0. 0. 1. 0. 1. 1. 0. 0.\n",
            " 1. 0. 1. 0. 0. 1. 0. 1. 0. 1. 1. 1. 0. 0. 1. 0. 1. 0. 0. 0. 1. 0. 0. 0.\n",
            " 0. 1. 1. 1. 0. 0. 0. 0. 0. 0. 0. 0. 0. 1. 0. 0. 0. 0. 0. 1. 1. 1. 0. 1.\n",
            " 1. 0. 0. 1. 0. 0. 1. 0. 0. 1. 1. 0. 0. 0. 0. 1. 0. 0. 1. 0. 0. 0. 0. 0.\n",
            " 0. 0. 1. 1. 1. 0. 0. 1. 0. 0. 1. 0. 0. 1. 0. 1. 1. 0. 1. 0. 1. 0. 1. 0.\n",
            " 1. 1. 0. 0. 0. 0. 1. 1. 0. 1. 0. 1. 0. 0. 0. 0. 1. 1. 0. 1. 0. 1. 0. 0.\n",
            " 0. 0. 0. 1. 0. 0. 0. 0. 1. 0. 0. 1. 1. 1. 0. 0. 1. 0. 0. 1. 0. 0. 0. 1.\n",
            " 0. 0. 1. 0. 0. 0. 0. 0. 0. 0. 0. 0. 1. 0. 0. 0. 0. 0. 0. 0. 1. 0. 0. 0.\n",
            " 1. 0. 0. 0. 1. 1. 0. 0. 0. 0. 0. 0. 0. 1. 0. 0. 0. 0. 1. 0. 0. 0. 1. 0.\n",
            " 0. 0. 1. 0. 0. 0. 1. 0. 0. 0. 0. 1. 1. 0. 0. 0. 0. 0. 0. 1. 0. 0. 0. 0.\n",
            " 0. 0. 0. 0. 0. 0. 0. 1. 0. 0. 0. 1. 1. 1. 1. 0. 0. 1. 1. 0. 0. 0. 0. 0.\n",
            " 0. 0. 0. 0. 0. 0. 0. 0. 1. 1. 0. 0. 0. 0. 0. 0. 0. 1. 0. 0. 0. 0. 0. 0.\n",
            " 0. 1. 0. 1. 1. 0. 0. 0. 1. 0. 1. 0. 1. 0. 1. 0. 1. 0. 0. 1. 0. 0. 1. 0.\n",
            " 0. 0. 0. 1. 1. 0. 1. 0. 0. 0. 0. 1. 1. 0. 1. 0. 0. 0. 1. 1. 0. 0. 0. 0.\n",
            " 0. 0. 0. 0. 0. 0. 1. 0. 0. 0. 0. 1. 0. 0. 1. 0. 0. 0. 1. 0. 0. 0. 1. 1.\n",
            " 1. 0. 0. 0. 0. 0. 0. 1. 0. 0. 0. 1. 0. 1. 1. 1. 1. 0. 1. 1. 0. 0. 0. 0.\n",
            " 0. 0. 0. 1. 1. 0. 1. 0. 0. 1. 0. 1. 0. 0. 0. 0. 0. 1. 0. 1. 0. 1. 0. 1.\n",
            " 1. 0. 0. 0. 0. 1. 1. 0. 0. 0. 1. 0. 1. 1. 0. 0. 1. 0. 0. 1. 1. 0. 0. 1.\n",
            " 0. 0. 1. 0. 0. 0. 0. 0. 0. 0. 1. 1. 1. 0. 0. 0. 0. 0. 0. 1. 1. 0. 0. 1.\n",
            " 0. 0. 1. 0. 1. 1. 1. 0. 0. 1. 1. 1. 0. 1. 0. 1. 0. 1. 0. 0. 0. 0. 1. 0.]\n"
          ],
          "name": "stdout"
        }
      ]
    },
    {
      "cell_type": "markdown",
      "metadata": {
        "id": "o0xMqOyTs5xt",
        "colab_type": "text"
      },
      "source": [
        "### Define Model"
      ]
    },
    {
      "cell_type": "code",
      "metadata": {
        "id": "Bp9USczrfu6M",
        "colab_type": "code",
        "colab": {}
      },
      "source": [
        "from tensorflow.keras.models import Sequential\n",
        "from tensorflow.keras.layers import Dense\n",
        "import numpy as np\n",
        "# fix random seed for reproducibility\n",
        "np.random.seed(812)"
      ],
      "execution_count": 0,
      "outputs": []
    },
    {
      "cell_type": "markdown",
      "metadata": {
        "id": "wAzHLg27thoN",
        "colab_type": "text"
      },
      "source": [
        "I'll instantiate my model as a \"sequential\" model. This just means that I'm going to tell Keras what my model's architecture should be one layer at a time."
      ]
    },
    {
      "cell_type": "code",
      "metadata": {
        "id": "DSNsL49Xp6KI",
        "colab_type": "code",
        "colab": {}
      },
      "source": [
        "# https://keras.io/getting-started/sequential-model-guide/\n",
        "model = Sequential()"
      ],
      "execution_count": 0,
      "outputs": []
    },
    {
      "cell_type": "markdown",
      "metadata": {
        "id": "ZCYX6QzJtvpG",
        "colab_type": "text"
      },
      "source": [
        "Adding a \"Dense\" layer to our model is how we add \"vanilla\" perceptron-based layers to our neural network. These are also called \"fully-connected\" or \"densely-connected\" layers. They're used as a layer type in lots of other Neural Net Architectures but they're not referred to as perceptrons or multi-layer perceptrons very often in those situations even though that's what they are.\n",
        "\n",
        " > [\"Just your regular densely-connected NN layer.\"](https://keras.io/layers/core/)\n",
        " \n",
        " The first argument is how many neurons we want to have in that layer. To create a perceptron model we will just set it to 1. We will tell it that there will be 8 inputs coming into this layer from our dataset and set it to use the sigmoid activation function."
      ]
    },
    {
      "cell_type": "code",
      "metadata": {
        "id": "GNzOLidxtvFa",
        "colab_type": "code",
        "outputId": "34b3b662-fadf-4f7e-b267-80a5db31c379",
        "colab": {
          "base_uri": "https://localhost:8080/",
          "height": 105
        }
      },
      "source": [
        "model.add(Dense(1, input_dim=8, activation=\"sigmoid\"))"
      ],
      "execution_count": 9,
      "outputs": [
        {
          "output_type": "stream",
          "text": [
            "WARNING: Logging before flag parsing goes to stderr.\n",
            "W0717 16:49:36.361795 139690491582336 deprecation.py:506] From /usr/local/lib/python3.6/dist-packages/tensorflow/python/ops/init_ops.py:1251: calling VarianceScaling.__init__ (from tensorflow.python.ops.init_ops) with dtype is deprecated and will be removed in a future version.\n",
            "Instructions for updating:\n",
            "Call initializer instance with the dtype argument instead of passing it to the constructor\n"
          ],
          "name": "stderr"
        }
      ]
    },
    {
      "cell_type": "markdown",
      "metadata": {
        "id": "EnI3jwKMtBL2",
        "colab_type": "text"
      },
      "source": [
        "### Compile Model\n",
        "Using binary_crossentropy as the loss function here is just telling keras that I'm doing binary classification so that it can use the appropriate loss function accordingly. If we were predicting non-binary categories we might assign something like `categorical_crossentropy`. We're also telling keras that we want it to report model accuracy as our main error metric for each epoch. We will also be able to see the overall accuracy once the model has finished training."
      ]
    },
    {
      "cell_type": "code",
      "metadata": {
        "id": "qp6xwYaqurRO",
        "colab_type": "code",
        "colab": {
          "base_uri": "https://localhost:8080/",
          "height": 88
        },
        "outputId": "bbe91faf-d3a0-457d-c3ba-49e51497c20c"
      },
      "source": [
        "model.compile(loss='binary_crossentropy', optimizer='adam', metrics=['accuracy'])"
      ],
      "execution_count": 10,
      "outputs": [
        {
          "output_type": "stream",
          "text": [
            "W0717 16:50:24.353006 139690491582336 deprecation.py:323] From /usr/local/lib/python3.6/dist-packages/tensorflow/python/ops/nn_impl.py:180: add_dispatch_support.<locals>.wrapper (from tensorflow.python.ops.array_ops) is deprecated and will be removed in a future version.\n",
            "Instructions for updating:\n",
            "Use tf.where in 2.0, which has the same broadcast rule as np.where\n"
          ],
          "name": "stderr"
        }
      ]
    },
    {
      "cell_type": "markdown",
      "metadata": {
        "id": "5dW8SZ2Ls9SX",
        "colab_type": "text"
      },
      "source": [
        "### Fit Model\n",
        "\n",
        "Lets train it up! `model.fit()` has a `batch_size` parameter that we can use if we want to do mini-batch epochs, but since this tabular dataset is pretty small we're just going to delete that parameter. Keras' default `batch_size` is `None` so omiting it will tell Keras to do batch epochs. "
      ]
    },
    {
      "cell_type": "code",
      "metadata": {
        "id": "nJxdmX_-u5MJ",
        "colab_type": "code",
        "outputId": "03910912-5a2f-4914-b4ec-00d97f620cbc",
        "colab": {
          "base_uri": "https://localhost:8080/",
          "height": 1000
        }
      },
      "source": [
        "model.fit(X, y, epochs=150)"
      ],
      "execution_count": 12,
      "outputs": [
        {
          "output_type": "stream",
          "text": [
            "Epoch 1/150\n",
            "768/768 [==============================] - 0s 48us/sample - loss: 0.5839 - acc: 0.7044\n",
            "Epoch 2/150\n",
            "768/768 [==============================] - 0s 37us/sample - loss: 0.5836 - acc: 0.7031\n",
            "Epoch 3/150\n",
            "768/768 [==============================] - 0s 35us/sample - loss: 0.5847 - acc: 0.7018\n",
            "Epoch 4/150\n",
            "768/768 [==============================] - 0s 38us/sample - loss: 0.5924 - acc: 0.6797\n",
            "Epoch 5/150\n",
            "768/768 [==============================] - 0s 43us/sample - loss: 0.5927 - acc: 0.6953\n",
            "Epoch 6/150\n",
            "768/768 [==============================] - 0s 38us/sample - loss: 0.6013 - acc: 0.7044\n",
            "Epoch 7/150\n",
            "768/768 [==============================] - 0s 41us/sample - loss: 0.5989 - acc: 0.7031\n",
            "Epoch 8/150\n",
            "768/768 [==============================] - 0s 39us/sample - loss: 0.5876 - acc: 0.6953\n",
            "Epoch 9/150\n",
            "768/768 [==============================] - 0s 43us/sample - loss: 0.5841 - acc: 0.6953\n",
            "Epoch 10/150\n",
            "768/768 [==============================] - 0s 42us/sample - loss: 0.5821 - acc: 0.7148\n",
            "Epoch 11/150\n",
            "768/768 [==============================] - 0s 43us/sample - loss: 0.5779 - acc: 0.7174\n",
            "Epoch 12/150\n",
            "768/768 [==============================] - 0s 41us/sample - loss: 0.5789 - acc: 0.7044\n",
            "Epoch 13/150\n",
            "768/768 [==============================] - 0s 38us/sample - loss: 0.5786 - acc: 0.7096\n",
            "Epoch 14/150\n",
            "768/768 [==============================] - 0s 39us/sample - loss: 0.5847 - acc: 0.7148\n",
            "Epoch 15/150\n",
            "768/768 [==============================] - 0s 43us/sample - loss: 0.5759 - acc: 0.7227\n",
            "Epoch 16/150\n",
            "768/768 [==============================] - 0s 39us/sample - loss: 0.5842 - acc: 0.7005\n",
            "Epoch 17/150\n",
            "768/768 [==============================] - 0s 37us/sample - loss: 0.5775 - acc: 0.7057\n",
            "Epoch 18/150\n",
            "768/768 [==============================] - 0s 37us/sample - loss: 0.5798 - acc: 0.7122\n",
            "Epoch 19/150\n",
            "768/768 [==============================] - 0s 46us/sample - loss: 0.5818 - acc: 0.7070\n",
            "Epoch 20/150\n",
            "768/768 [==============================] - 0s 38us/sample - loss: 0.5804 - acc: 0.7018\n",
            "Epoch 21/150\n",
            "768/768 [==============================] - 0s 39us/sample - loss: 0.5945 - acc: 0.6966\n",
            "Epoch 22/150\n",
            "768/768 [==============================] - 0s 42us/sample - loss: 0.5822 - acc: 0.7044\n",
            "Epoch 23/150\n",
            "768/768 [==============================] - 0s 39us/sample - loss: 0.5784 - acc: 0.7161\n",
            "Epoch 24/150\n",
            "768/768 [==============================] - 0s 44us/sample - loss: 0.5862 - acc: 0.7031\n",
            "Epoch 25/150\n",
            "768/768 [==============================] - 0s 42us/sample - loss: 0.5791 - acc: 0.7148\n",
            "Epoch 26/150\n",
            "768/768 [==============================] - 0s 38us/sample - loss: 0.5839 - acc: 0.7188\n",
            "Epoch 27/150\n",
            "768/768 [==============================] - 0s 42us/sample - loss: 0.5973 - acc: 0.6849\n",
            "Epoch 28/150\n",
            "768/768 [==============================] - 0s 43us/sample - loss: 0.5717 - acc: 0.7279\n",
            "Epoch 29/150\n",
            "768/768 [==============================] - 0s 37us/sample - loss: 0.5898 - acc: 0.7109\n",
            "Epoch 30/150\n",
            "768/768 [==============================] - 0s 39us/sample - loss: 0.5783 - acc: 0.7214\n",
            "Epoch 31/150\n",
            "768/768 [==============================] - 0s 44us/sample - loss: 0.5745 - acc: 0.7174\n",
            "Epoch 32/150\n",
            "768/768 [==============================] - 0s 37us/sample - loss: 0.5786 - acc: 0.7044\n",
            "Epoch 33/150\n",
            "768/768 [==============================] - 0s 37us/sample - loss: 0.5795 - acc: 0.7005\n",
            "Epoch 34/150\n",
            "768/768 [==============================] - 0s 36us/sample - loss: 0.5735 - acc: 0.7161\n",
            "Epoch 35/150\n",
            "768/768 [==============================] - 0s 45us/sample - loss: 0.5779 - acc: 0.7148\n",
            "Epoch 36/150\n",
            "768/768 [==============================] - 0s 43us/sample - loss: 0.5714 - acc: 0.7266\n",
            "Epoch 37/150\n",
            "768/768 [==============================] - 0s 37us/sample - loss: 0.5737 - acc: 0.7161\n",
            "Epoch 38/150\n",
            "768/768 [==============================] - 0s 38us/sample - loss: 0.5756 - acc: 0.7227\n",
            "Epoch 39/150\n",
            "768/768 [==============================] - 0s 47us/sample - loss: 0.5771 - acc: 0.7122\n",
            "Epoch 40/150\n",
            "768/768 [==============================] - 0s 38us/sample - loss: 0.5782 - acc: 0.7214\n",
            "Epoch 41/150\n",
            "768/768 [==============================] - 0s 40us/sample - loss: 0.5739 - acc: 0.7135\n",
            "Epoch 42/150\n",
            "768/768 [==============================] - 0s 43us/sample - loss: 0.5703 - acc: 0.7240\n",
            "Epoch 43/150\n",
            "768/768 [==============================] - 0s 41us/sample - loss: 0.5733 - acc: 0.7161\n",
            "Epoch 44/150\n",
            "768/768 [==============================] - 0s 41us/sample - loss: 0.5701 - acc: 0.7292\n",
            "Epoch 45/150\n",
            "768/768 [==============================] - 0s 44us/sample - loss: 0.5722 - acc: 0.7135\n",
            "Epoch 46/150\n",
            "768/768 [==============================] - 0s 44us/sample - loss: 0.5723 - acc: 0.7240\n",
            "Epoch 47/150\n",
            "768/768 [==============================] - 0s 43us/sample - loss: 0.5740 - acc: 0.7148\n",
            "Epoch 48/150\n",
            "768/768 [==============================] - 0s 45us/sample - loss: 0.5717 - acc: 0.7279\n",
            "Epoch 49/150\n",
            "768/768 [==============================] - 0s 38us/sample - loss: 0.5727 - acc: 0.7148\n",
            "Epoch 50/150\n",
            "768/768 [==============================] - 0s 39us/sample - loss: 0.5694 - acc: 0.7253\n",
            "Epoch 51/150\n",
            "768/768 [==============================] - 0s 39us/sample - loss: 0.5679 - acc: 0.7135\n",
            "Epoch 52/150\n",
            "768/768 [==============================] - 0s 40us/sample - loss: 0.5686 - acc: 0.7266\n",
            "Epoch 53/150\n",
            "768/768 [==============================] - 0s 39us/sample - loss: 0.5760 - acc: 0.7148\n",
            "Epoch 54/150\n",
            "768/768 [==============================] - 0s 40us/sample - loss: 0.5750 - acc: 0.7161\n",
            "Epoch 55/150\n",
            "768/768 [==============================] - 0s 43us/sample - loss: 0.5923 - acc: 0.6966\n",
            "Epoch 56/150\n",
            "768/768 [==============================] - 0s 44us/sample - loss: 0.5746 - acc: 0.7122\n",
            "Epoch 57/150\n",
            "768/768 [==============================] - 0s 42us/sample - loss: 0.5706 - acc: 0.7031\n",
            "Epoch 58/150\n",
            "768/768 [==============================] - 0s 45us/sample - loss: 0.5665 - acc: 0.7266\n",
            "Epoch 59/150\n",
            "768/768 [==============================] - 0s 41us/sample - loss: 0.5795 - acc: 0.7044\n",
            "Epoch 60/150\n",
            "768/768 [==============================] - 0s 42us/sample - loss: 0.5771 - acc: 0.7109\n",
            "Epoch 61/150\n",
            "768/768 [==============================] - 0s 45us/sample - loss: 0.5742 - acc: 0.7135\n",
            "Epoch 62/150\n",
            "768/768 [==============================] - 0s 42us/sample - loss: 0.5729 - acc: 0.7253\n",
            "Epoch 63/150\n",
            "768/768 [==============================] - 0s 48us/sample - loss: 0.5706 - acc: 0.7083\n",
            "Epoch 64/150\n",
            "768/768 [==============================] - 0s 43us/sample - loss: 0.5660 - acc: 0.7214\n",
            "Epoch 65/150\n",
            "768/768 [==============================] - 0s 40us/sample - loss: 0.5668 - acc: 0.7174\n",
            "Epoch 66/150\n",
            "768/768 [==============================] - 0s 45us/sample - loss: 0.5872 - acc: 0.7070\n",
            "Epoch 67/150\n",
            "768/768 [==============================] - 0s 46us/sample - loss: 0.5710 - acc: 0.7161\n",
            "Epoch 68/150\n",
            "768/768 [==============================] - 0s 38us/sample - loss: 0.5688 - acc: 0.7344\n",
            "Epoch 69/150\n",
            "768/768 [==============================] - 0s 37us/sample - loss: 0.5754 - acc: 0.7044\n",
            "Epoch 70/150\n",
            "768/768 [==============================] - 0s 41us/sample - loss: 0.5701 - acc: 0.7214\n",
            "Epoch 71/150\n",
            "768/768 [==============================] - 0s 41us/sample - loss: 0.5676 - acc: 0.7201\n",
            "Epoch 72/150\n",
            "768/768 [==============================] - 0s 38us/sample - loss: 0.5721 - acc: 0.7096\n",
            "Epoch 73/150\n",
            "768/768 [==============================] - 0s 45us/sample - loss: 0.5629 - acc: 0.7279\n",
            "Epoch 74/150\n",
            "768/768 [==============================] - 0s 37us/sample - loss: 0.5697 - acc: 0.7096\n",
            "Epoch 75/150\n",
            "768/768 [==============================] - 0s 37us/sample - loss: 0.5650 - acc: 0.7318\n",
            "Epoch 76/150\n",
            "768/768 [==============================] - 0s 40us/sample - loss: 0.5633 - acc: 0.7161\n",
            "Epoch 77/150\n",
            "768/768 [==============================] - 0s 39us/sample - loss: 0.5665 - acc: 0.7214\n",
            "Epoch 78/150\n",
            "768/768 [==============================] - 0s 40us/sample - loss: 0.5673 - acc: 0.7240\n",
            "Epoch 79/150\n",
            "768/768 [==============================] - 0s 42us/sample - loss: 0.5679 - acc: 0.7135\n",
            "Epoch 80/150\n",
            "768/768 [==============================] - 0s 45us/sample - loss: 0.5615 - acc: 0.7305\n",
            "Epoch 81/150\n",
            "768/768 [==============================] - 0s 40us/sample - loss: 0.5636 - acc: 0.7253\n",
            "Epoch 82/150\n",
            "768/768 [==============================] - 0s 40us/sample - loss: 0.5762 - acc: 0.7005\n",
            "Epoch 83/150\n",
            "768/768 [==============================] - 0s 40us/sample - loss: 0.5632 - acc: 0.7266\n",
            "Epoch 84/150\n",
            "768/768 [==============================] - 0s 46us/sample - loss: 0.5704 - acc: 0.7266\n",
            "Epoch 85/150\n",
            "768/768 [==============================] - 0s 43us/sample - loss: 0.5616 - acc: 0.7331\n",
            "Epoch 86/150\n",
            "768/768 [==============================] - 0s 48us/sample - loss: 0.5618 - acc: 0.7318\n",
            "Epoch 87/150\n",
            "768/768 [==============================] - 0s 43us/sample - loss: 0.5616 - acc: 0.7331\n",
            "Epoch 88/150\n",
            "768/768 [==============================] - 0s 39us/sample - loss: 0.5677 - acc: 0.7305\n",
            "Epoch 89/150\n",
            "768/768 [==============================] - 0s 39us/sample - loss: 0.5577 - acc: 0.7318\n",
            "Epoch 90/150\n",
            "768/768 [==============================] - 0s 42us/sample - loss: 0.5685 - acc: 0.7148\n",
            "Epoch 91/150\n",
            "768/768 [==============================] - 0s 39us/sample - loss: 0.5645 - acc: 0.7305\n",
            "Epoch 92/150\n",
            "768/768 [==============================] - 0s 46us/sample - loss: 0.5645 - acc: 0.7266\n",
            "Epoch 93/150\n",
            "768/768 [==============================] - 0s 48us/sample - loss: 0.5607 - acc: 0.7305\n",
            "Epoch 94/150\n",
            "768/768 [==============================] - 0s 40us/sample - loss: 0.5593 - acc: 0.7396\n",
            "Epoch 95/150\n",
            "768/768 [==============================] - 0s 43us/sample - loss: 0.5620 - acc: 0.7253\n",
            "Epoch 96/150\n",
            "768/768 [==============================] - 0s 45us/sample - loss: 0.5603 - acc: 0.7253\n",
            "Epoch 97/150\n",
            "768/768 [==============================] - 0s 45us/sample - loss: 0.5582 - acc: 0.7279\n",
            "Epoch 98/150\n",
            "768/768 [==============================] - 0s 40us/sample - loss: 0.5650 - acc: 0.7201\n",
            "Epoch 99/150\n",
            "768/768 [==============================] - 0s 41us/sample - loss: 0.5642 - acc: 0.7305\n",
            "Epoch 100/150\n",
            "768/768 [==============================] - 0s 44us/sample - loss: 0.5587 - acc: 0.7357\n",
            "Epoch 101/150\n",
            "768/768 [==============================] - 0s 41us/sample - loss: 0.5728 - acc: 0.7266\n",
            "Epoch 102/150\n",
            "768/768 [==============================] - 0s 46us/sample - loss: 0.5601 - acc: 0.7331\n",
            "Epoch 103/150\n",
            "768/768 [==============================] - 0s 47us/sample - loss: 0.5645 - acc: 0.7240\n",
            "Epoch 104/150\n",
            "768/768 [==============================] - 0s 43us/sample - loss: 0.5579 - acc: 0.7305\n",
            "Epoch 105/150\n",
            "768/768 [==============================] - 0s 46us/sample - loss: 0.5660 - acc: 0.7253\n",
            "Epoch 106/150\n",
            "768/768 [==============================] - 0s 41us/sample - loss: 0.5583 - acc: 0.7266\n",
            "Epoch 107/150\n",
            "768/768 [==============================] - 0s 51us/sample - loss: 0.5590 - acc: 0.7318\n",
            "Epoch 108/150\n",
            "768/768 [==============================] - 0s 54us/sample - loss: 0.5595 - acc: 0.7161\n",
            "Epoch 109/150\n",
            "768/768 [==============================] - 0s 46us/sample - loss: 0.5582 - acc: 0.7253\n",
            "Epoch 110/150\n",
            "768/768 [==============================] - 0s 42us/sample - loss: 0.5652 - acc: 0.7135\n",
            "Epoch 111/150\n",
            "768/768 [==============================] - 0s 42us/sample - loss: 0.5540 - acc: 0.7383\n",
            "Epoch 112/150\n",
            "768/768 [==============================] - 0s 41us/sample - loss: 0.5629 - acc: 0.7227\n",
            "Epoch 113/150\n",
            "768/768 [==============================] - 0s 45us/sample - loss: 0.5693 - acc: 0.7240\n",
            "Epoch 114/150\n",
            "768/768 [==============================] - 0s 37us/sample - loss: 0.5662 - acc: 0.7031\n",
            "Epoch 115/150\n",
            "768/768 [==============================] - 0s 37us/sample - loss: 0.5693 - acc: 0.7174\n",
            "Epoch 116/150\n",
            "768/768 [==============================] - 0s 43us/sample - loss: 0.5782 - acc: 0.7044\n",
            "Epoch 117/150\n",
            "768/768 [==============================] - 0s 41us/sample - loss: 0.5580 - acc: 0.7344\n",
            "Epoch 118/150\n",
            "768/768 [==============================] - 0s 41us/sample - loss: 0.5546 - acc: 0.7318\n",
            "Epoch 119/150\n",
            "768/768 [==============================] - 0s 39us/sample - loss: 0.5545 - acc: 0.7188\n",
            "Epoch 120/150\n",
            "768/768 [==============================] - 0s 38us/sample - loss: 0.5561 - acc: 0.7344\n",
            "Epoch 121/150\n",
            "768/768 [==============================] - 0s 41us/sample - loss: 0.5661 - acc: 0.7122\n",
            "Epoch 122/150\n",
            "768/768 [==============================] - 0s 41us/sample - loss: 0.5560 - acc: 0.7357\n",
            "Epoch 123/150\n",
            "768/768 [==============================] - 0s 44us/sample - loss: 0.5567 - acc: 0.7383\n",
            "Epoch 124/150\n",
            "768/768 [==============================] - 0s 41us/sample - loss: 0.5612 - acc: 0.7227\n",
            "Epoch 125/150\n",
            "768/768 [==============================] - 0s 40us/sample - loss: 0.5563 - acc: 0.7344\n",
            "Epoch 126/150\n",
            "768/768 [==============================] - 0s 48us/sample - loss: 0.5640 - acc: 0.7253\n",
            "Epoch 127/150\n",
            "768/768 [==============================] - 0s 44us/sample - loss: 0.5571 - acc: 0.7357\n",
            "Epoch 128/150\n",
            "768/768 [==============================] - 0s 41us/sample - loss: 0.5542 - acc: 0.7305\n",
            "Epoch 129/150\n",
            "768/768 [==============================] - 0s 43us/sample - loss: 0.5540 - acc: 0.7253\n",
            "Epoch 130/150\n",
            "768/768 [==============================] - 0s 43us/sample - loss: 0.5541 - acc: 0.7305\n",
            "Epoch 131/150\n",
            "768/768 [==============================] - 0s 39us/sample - loss: 0.5539 - acc: 0.7292\n",
            "Epoch 132/150\n",
            "768/768 [==============================] - 0s 46us/sample - loss: 0.5545 - acc: 0.7357\n",
            "Epoch 133/150\n",
            "768/768 [==============================] - 0s 36us/sample - loss: 0.5555 - acc: 0.7396\n",
            "Epoch 134/150\n",
            "768/768 [==============================] - 0s 42us/sample - loss: 0.5616 - acc: 0.7305\n",
            "Epoch 135/150\n",
            "768/768 [==============================] - 0s 43us/sample - loss: 0.5548 - acc: 0.7201\n",
            "Epoch 136/150\n",
            "768/768 [==============================] - 0s 42us/sample - loss: 0.5531 - acc: 0.7292\n",
            "Epoch 137/150\n",
            "768/768 [==============================] - 0s 41us/sample - loss: 0.5542 - acc: 0.7201\n",
            "Epoch 138/150\n",
            "768/768 [==============================] - 0s 46us/sample - loss: 0.5521 - acc: 0.7305\n",
            "Epoch 139/150\n",
            "768/768 [==============================] - 0s 43us/sample - loss: 0.5501 - acc: 0.7461\n",
            "Epoch 140/150\n",
            "768/768 [==============================] - 0s 40us/sample - loss: 0.5517 - acc: 0.7266\n",
            "Epoch 141/150\n",
            "768/768 [==============================] - 0s 42us/sample - loss: 0.5660 - acc: 0.7331\n",
            "Epoch 142/150\n",
            "768/768 [==============================] - 0s 42us/sample - loss: 0.5509 - acc: 0.7344\n",
            "Epoch 143/150\n",
            "768/768 [==============================] - 0s 42us/sample - loss: 0.5509 - acc: 0.7370\n",
            "Epoch 144/150\n",
            "768/768 [==============================] - 0s 47us/sample - loss: 0.5504 - acc: 0.7357\n",
            "Epoch 145/150\n",
            "768/768 [==============================] - 0s 41us/sample - loss: 0.5569 - acc: 0.7344\n",
            "Epoch 146/150\n",
            "768/768 [==============================] - 0s 43us/sample - loss: 0.5502 - acc: 0.7409\n",
            "Epoch 147/150\n",
            "768/768 [==============================] - 0s 46us/sample - loss: 0.5485 - acc: 0.7448\n",
            "Epoch 148/150\n",
            "768/768 [==============================] - 0s 48us/sample - loss: 0.5485 - acc: 0.7331\n",
            "Epoch 149/150\n",
            "768/768 [==============================] - 0s 55us/sample - loss: 0.5524 - acc: 0.7253\n",
            "Epoch 150/150\n",
            "768/768 [==============================] - 0s 44us/sample - loss: 0.5502 - acc: 0.7344\n"
          ],
          "name": "stdout"
        },
        {
          "output_type": "execute_result",
          "data": {
            "text/plain": [
              "<tensorflow.python.keras.callbacks.History at 0x7f0bfaf84be0>"
            ]
          },
          "metadata": {
            "tags": []
          },
          "execution_count": 12
        }
      ]
    },
    {
      "cell_type": "markdown",
      "metadata": {
        "id": "BSybwWEJtGFm",
        "colab_type": "text"
      },
      "source": [
        "### Evaluate Model"
      ]
    },
    {
      "cell_type": "code",
      "metadata": {
        "id": "34wh8z9MvFMp",
        "colab_type": "code",
        "outputId": "8e25d605-4228-446d-c195-ded4fc4f71b9",
        "colab": {
          "base_uri": "https://localhost:8080/",
          "height": 51
        }
      },
      "source": [
        "scores = model.evaluate(X, y)\n",
        "print(f\"{model.metrics_names[1]}: {scores[1]*100}\")"
      ],
      "execution_count": 13,
      "outputs": [
        {
          "output_type": "stream",
          "text": [
            "768/768 [==============================] - 0s 58us/sample - loss: 0.5478 - acc: 0.7266\n",
            "acc: 72.65625\n"
          ],
          "name": "stdout"
        }
      ]
    },
    {
      "cell_type": "markdown",
      "metadata": {
        "id": "AIJoRBxHy27n",
        "colab_type": "text"
      },
      "source": [
        "# Keras Perceptron Model in 4 lines of code:"
      ]
    },
    {
      "cell_type": "code",
      "metadata": {
        "id": "TQxyONqKvFxB",
        "colab_type": "code",
        "outputId": "12966e66-2297-4f82-85b3-c275a9c38563",
        "colab": {
          "base_uri": "https://localhost:8080/",
          "height": 5216
        }
      },
      "source": [
        "model = Sequential()\n",
        "model.add(Dense(1, input_dim=8, activation='sigmoid'))\n",
        "model.compile(loss='binary_crossentropy', optimizer='adam', metrics=['accuracy'])\n",
        "model.fit(X, Y, epochs=150)"
      ],
      "execution_count": 0,
      "outputs": [
        {
          "output_type": "stream",
          "text": [
            "Epoch 1/150\n",
            "768/768 [==============================] - 0s 415us/step - loss: 7.9936 - acc: 0.3984\n",
            "Epoch 2/150\n",
            "768/768 [==============================] - 0s 37us/step - loss: 7.5918 - acc: 0.4336\n",
            "Epoch 3/150\n",
            "768/768 [==============================] - 0s 40us/step - loss: 7.0022 - acc: 0.4661\n",
            "Epoch 4/150\n",
            "768/768 [==============================] - 0s 42us/step - loss: 6.2710 - acc: 0.4922\n",
            "Epoch 5/150\n",
            "768/768 [==============================] - 0s 42us/step - loss: 5.6661 - acc: 0.5469\n",
            "Epoch 6/150\n",
            "768/768 [==============================] - 0s 40us/step - loss: 5.2267 - acc: 0.5768\n",
            "Epoch 7/150\n",
            "768/768 [==============================] - 0s 46us/step - loss: 4.8732 - acc: 0.6055\n",
            "Epoch 8/150\n",
            "768/768 [==============================] - 0s 47us/step - loss: 4.6400 - acc: 0.6250\n",
            "Epoch 9/150\n",
            "768/768 [==============================] - 0s 37us/step - loss: 4.5347 - acc: 0.6172\n",
            "Epoch 10/150\n",
            "768/768 [==============================] - 0s 41us/step - loss: 4.4936 - acc: 0.6159\n",
            "Epoch 11/150\n",
            "768/768 [==============================] - 0s 43us/step - loss: 4.4815 - acc: 0.6198\n",
            "Epoch 12/150\n",
            "768/768 [==============================] - 0s 35us/step - loss: 4.4625 - acc: 0.6185\n",
            "Epoch 13/150\n",
            "768/768 [==============================] - 0s 44us/step - loss: 4.4444 - acc: 0.6237\n",
            "Epoch 14/150\n",
            "768/768 [==============================] - 0s 39us/step - loss: 4.4206 - acc: 0.6224\n",
            "Epoch 15/150\n",
            "768/768 [==============================] - 0s 48us/step - loss: 4.4001 - acc: 0.6211\n",
            "Epoch 16/150\n",
            "768/768 [==============================] - 0s 41us/step - loss: 4.3810 - acc: 0.6211\n",
            "Epoch 17/150\n",
            "768/768 [==============================] - 0s 35us/step - loss: 4.3679 - acc: 0.6198\n",
            "Epoch 18/150\n",
            "768/768 [==============================] - 0s 40us/step - loss: 4.3424 - acc: 0.6211\n",
            "Epoch 19/150\n",
            "768/768 [==============================] - 0s 38us/step - loss: 4.3205 - acc: 0.6198\n",
            "Epoch 20/150\n",
            "768/768 [==============================] - 0s 37us/step - loss: 4.3036 - acc: 0.6250\n",
            "Epoch 21/150\n",
            "768/768 [==============================] - 0s 37us/step - loss: 4.2856 - acc: 0.6185\n",
            "Epoch 22/150\n",
            "768/768 [==============================] - 0s 37us/step - loss: 4.2640 - acc: 0.6237\n",
            "Epoch 23/150\n",
            "768/768 [==============================] - 0s 36us/step - loss: 4.2337 - acc: 0.6198\n",
            "Epoch 24/150\n",
            "768/768 [==============================] - 0s 38us/step - loss: 4.2074 - acc: 0.6172\n",
            "Epoch 25/150\n",
            "768/768 [==============================] - 0s 39us/step - loss: 4.1836 - acc: 0.6172\n",
            "Epoch 26/150\n",
            "768/768 [==============================] - 0s 40us/step - loss: 4.1549 - acc: 0.6198\n",
            "Epoch 27/150\n",
            "768/768 [==============================] - 0s 39us/step - loss: 4.1246 - acc: 0.6172\n",
            "Epoch 28/150\n",
            "768/768 [==============================] - 0s 38us/step - loss: 4.0928 - acc: 0.6172\n",
            "Epoch 29/150\n",
            "768/768 [==============================] - 0s 48us/step - loss: 4.0710 - acc: 0.6198\n",
            "Epoch 30/150\n",
            "768/768 [==============================] - 0s 38us/step - loss: 4.0325 - acc: 0.6159\n",
            "Epoch 31/150\n",
            "768/768 [==============================] - 0s 46us/step - loss: 3.9979 - acc: 0.6159\n",
            "Epoch 32/150\n",
            "768/768 [==============================] - 0s 41us/step - loss: 3.9632 - acc: 0.6172\n",
            "Epoch 33/150\n",
            "768/768 [==============================] - 0s 44us/step - loss: 3.9280 - acc: 0.6146\n",
            "Epoch 34/150\n",
            "768/768 [==============================] - 0s 36us/step - loss: 3.8915 - acc: 0.6133\n",
            "Epoch 35/150\n",
            "768/768 [==============================] - 0s 49us/step - loss: 3.8547 - acc: 0.6146\n",
            "Epoch 36/150\n",
            "768/768 [==============================] - 0s 35us/step - loss: 3.8311 - acc: 0.6120\n",
            "Epoch 37/150\n",
            "768/768 [==============================] - 0s 39us/step - loss: 3.7842 - acc: 0.6094\n",
            "Epoch 38/150\n",
            "768/768 [==============================] - 0s 37us/step - loss: 3.7484 - acc: 0.6068\n",
            "Epoch 39/150\n",
            "768/768 [==============================] - 0s 46us/step - loss: 3.7032 - acc: 0.6120\n",
            "Epoch 40/150\n",
            "768/768 [==============================] - 0s 37us/step - loss: 3.6651 - acc: 0.6016\n",
            "Epoch 41/150\n",
            "768/768 [==============================] - 0s 37us/step - loss: 3.6011 - acc: 0.6068\n",
            "Epoch 42/150\n",
            "768/768 [==============================] - 0s 41us/step - loss: 3.5087 - acc: 0.5990\n",
            "Epoch 43/150\n",
            "768/768 [==============================] - 0s 41us/step - loss: 3.1149 - acc: 0.5898\n",
            "Epoch 44/150\n",
            "768/768 [==============================] - 0s 41us/step - loss: 1.9003 - acc: 0.5000\n",
            "Epoch 45/150\n",
            "768/768 [==============================] - 0s 40us/step - loss: 1.6671 - acc: 0.5456\n",
            "Epoch 46/150\n",
            "768/768 [==============================] - 0s 37us/step - loss: 1.5055 - acc: 0.5365\n",
            "Epoch 47/150\n",
            "768/768 [==============================] - 0s 45us/step - loss: 1.4111 - acc: 0.5273\n",
            "Epoch 48/150\n",
            "768/768 [==============================] - 0s 41us/step - loss: 1.3060 - acc: 0.5273\n",
            "Epoch 49/150\n",
            "768/768 [==============================] - 0s 42us/step - loss: 1.2272 - acc: 0.5534\n",
            "Epoch 50/150\n",
            "768/768 [==============================] - 0s 46us/step - loss: 1.1318 - acc: 0.5508\n",
            "Epoch 51/150\n",
            "768/768 [==============================] - 0s 41us/step - loss: 1.0748 - acc: 0.5352\n",
            "Epoch 52/150\n",
            "768/768 [==============================] - 0s 45us/step - loss: 1.0015 - acc: 0.5716\n",
            "Epoch 53/150\n",
            "768/768 [==============================] - 0s 42us/step - loss: 0.9331 - acc: 0.5846\n",
            "Epoch 54/150\n",
            "768/768 [==============================] - 0s 39us/step - loss: 0.8887 - acc: 0.5742\n",
            "Epoch 55/150\n",
            "768/768 [==============================] - 0s 47us/step - loss: 0.8251 - acc: 0.5742\n",
            "Epoch 56/150\n",
            "768/768 [==============================] - 0s 39us/step - loss: 0.8036 - acc: 0.5742\n",
            "Epoch 57/150\n",
            "768/768 [==============================] - 0s 40us/step - loss: 0.7534 - acc: 0.6380\n",
            "Epoch 58/150\n",
            "768/768 [==============================] - 0s 52us/step - loss: 0.7141 - acc: 0.6250\n",
            "Epoch 59/150\n",
            "768/768 [==============================] - 0s 43us/step - loss: 0.6884 - acc: 0.6341\n",
            "Epoch 60/150\n",
            "768/768 [==============================] - 0s 36us/step - loss: 0.6751 - acc: 0.6589\n",
            "Epoch 61/150\n",
            "768/768 [==============================] - 0s 43us/step - loss: 0.6690 - acc: 0.6354\n",
            "Epoch 62/150\n",
            "768/768 [==============================] - 0s 36us/step - loss: 0.6484 - acc: 0.6510\n",
            "Epoch 63/150\n",
            "768/768 [==============================] - 0s 38us/step - loss: 0.6198 - acc: 0.6706\n",
            "Epoch 64/150\n",
            "768/768 [==============================] - 0s 38us/step - loss: 0.6216 - acc: 0.6745\n",
            "Epoch 65/150\n",
            "768/768 [==============================] - 0s 40us/step - loss: 0.6152 - acc: 0.6797\n",
            "Epoch 66/150\n",
            "768/768 [==============================] - 0s 35us/step - loss: 0.6067 - acc: 0.6966\n",
            "Epoch 67/150\n",
            "768/768 [==============================] - 0s 37us/step - loss: 0.6047 - acc: 0.6992\n",
            "Epoch 68/150\n",
            "768/768 [==============================] - 0s 37us/step - loss: 0.6014 - acc: 0.6914\n",
            "Epoch 69/150\n",
            "768/768 [==============================] - 0s 40us/step - loss: 0.5973 - acc: 0.7005\n",
            "Epoch 70/150\n",
            "768/768 [==============================] - 0s 37us/step - loss: 0.6043 - acc: 0.6836\n",
            "Epoch 71/150\n",
            "768/768 [==============================] - 0s 36us/step - loss: 0.6004 - acc: 0.6927\n",
            "Epoch 72/150\n",
            "768/768 [==============================] - 0s 36us/step - loss: 0.6068 - acc: 0.6940\n",
            "Epoch 73/150\n",
            "768/768 [==============================] - 0s 37us/step - loss: 0.6009 - acc: 0.6966\n",
            "Epoch 74/150\n",
            "768/768 [==============================] - 0s 37us/step - loss: 0.6024 - acc: 0.7018\n",
            "Epoch 75/150\n",
            "768/768 [==============================] - 0s 35us/step - loss: 0.5960 - acc: 0.6992\n",
            "Epoch 76/150\n",
            "768/768 [==============================] - 0s 39us/step - loss: 0.5901 - acc: 0.7122\n",
            "Epoch 77/150\n",
            "768/768 [==============================] - 0s 35us/step - loss: 0.5886 - acc: 0.7122\n",
            "Epoch 78/150\n",
            "768/768 [==============================] - 0s 36us/step - loss: 0.5982 - acc: 0.6901\n",
            "Epoch 79/150\n",
            "768/768 [==============================] - 0s 35us/step - loss: 0.5982 - acc: 0.6927\n",
            "Epoch 80/150\n",
            "768/768 [==============================] - 0s 36us/step - loss: 0.5958 - acc: 0.6953\n",
            "Epoch 81/150\n",
            "768/768 [==============================] - 0s 37us/step - loss: 0.5897 - acc: 0.6992\n",
            "Epoch 82/150\n",
            "768/768 [==============================] - 0s 39us/step - loss: 0.5950 - acc: 0.6914\n",
            "Epoch 83/150\n",
            "768/768 [==============================] - 0s 37us/step - loss: 0.5900 - acc: 0.6979\n",
            "Epoch 84/150\n",
            "768/768 [==============================] - 0s 37us/step - loss: 0.5920 - acc: 0.7070\n",
            "Epoch 85/150\n",
            "768/768 [==============================] - 0s 39us/step - loss: 0.5918 - acc: 0.7083\n",
            "Epoch 86/150\n",
            "768/768 [==============================] - 0s 38us/step - loss: 0.5975 - acc: 0.6862\n",
            "Epoch 87/150\n",
            "768/768 [==============================] - 0s 34us/step - loss: 0.5958 - acc: 0.6940\n",
            "Epoch 88/150\n",
            "768/768 [==============================] - 0s 36us/step - loss: 0.5956 - acc: 0.6992\n",
            "Epoch 89/150\n",
            "768/768 [==============================] - 0s 36us/step - loss: 0.5896 - acc: 0.7018\n",
            "Epoch 90/150\n",
            "768/768 [==============================] - 0s 42us/step - loss: 0.5966 - acc: 0.6953\n",
            "Epoch 91/150\n",
            "768/768 [==============================] - 0s 36us/step - loss: 0.5935 - acc: 0.7044\n",
            "Epoch 92/150\n",
            "768/768 [==============================] - 0s 36us/step - loss: 0.5916 - acc: 0.6914\n",
            "Epoch 93/150\n",
            "768/768 [==============================] - 0s 38us/step - loss: 0.5946 - acc: 0.6927\n",
            "Epoch 94/150\n",
            "768/768 [==============================] - 0s 34us/step - loss: 0.5908 - acc: 0.7031\n",
            "Epoch 95/150\n",
            "768/768 [==============================] - 0s 38us/step - loss: 0.5902 - acc: 0.7018\n",
            "Epoch 96/150\n",
            "768/768 [==============================] - 0s 36us/step - loss: 0.5945 - acc: 0.6888\n",
            "Epoch 97/150\n",
            "768/768 [==============================] - 0s 37us/step - loss: 0.5887 - acc: 0.6953\n",
            "Epoch 98/150\n",
            "768/768 [==============================] - 0s 38us/step - loss: 0.5925 - acc: 0.6966\n",
            "Epoch 99/150\n",
            "768/768 [==============================] - 0s 36us/step - loss: 0.5892 - acc: 0.7005\n",
            "Epoch 100/150\n",
            "768/768 [==============================] - 0s 42us/step - loss: 0.5852 - acc: 0.7174\n",
            "Epoch 101/150\n",
            "768/768 [==============================] - 0s 38us/step - loss: 0.5855 - acc: 0.7057\n",
            "Epoch 102/150\n",
            "768/768 [==============================] - 0s 39us/step - loss: 0.5819 - acc: 0.7148\n",
            "Epoch 103/150\n",
            "768/768 [==============================] - 0s 37us/step - loss: 0.5877 - acc: 0.7044\n",
            "Epoch 104/150\n",
            "768/768 [==============================] - 0s 38us/step - loss: 0.5876 - acc: 0.7057\n",
            "Epoch 105/150\n",
            "768/768 [==============================] - 0s 37us/step - loss: 0.5877 - acc: 0.7057\n",
            "Epoch 106/150\n",
            "768/768 [==============================] - 0s 36us/step - loss: 0.5863 - acc: 0.7044\n",
            "Epoch 107/150\n",
            "768/768 [==============================] - 0s 36us/step - loss: 0.5829 - acc: 0.7031\n",
            "Epoch 108/150\n",
            "768/768 [==============================] - 0s 35us/step - loss: 0.5846 - acc: 0.7057\n",
            "Epoch 109/150\n",
            "768/768 [==============================] - 0s 36us/step - loss: 0.5824 - acc: 0.7083\n",
            "Epoch 110/150\n",
            "768/768 [==============================] - 0s 37us/step - loss: 0.5824 - acc: 0.7070\n",
            "Epoch 111/150\n",
            "768/768 [==============================] - 0s 38us/step - loss: 0.5845 - acc: 0.7122\n",
            "Epoch 112/150\n",
            "768/768 [==============================] - 0s 35us/step - loss: 0.5855 - acc: 0.7214\n",
            "Epoch 113/150\n",
            "768/768 [==============================] - 0s 37us/step - loss: 0.5834 - acc: 0.7031\n",
            "Epoch 114/150\n",
            "768/768 [==============================] - 0s 36us/step - loss: 0.5819 - acc: 0.7188\n",
            "Epoch 115/150\n",
            "768/768 [==============================] - 0s 37us/step - loss: 0.5810 - acc: 0.7083\n",
            "Epoch 116/150\n",
            "768/768 [==============================] - 0s 38us/step - loss: 0.5840 - acc: 0.7135\n",
            "Epoch 117/150\n",
            "768/768 [==============================] - 0s 38us/step - loss: 0.5779 - acc: 0.7227\n",
            "Epoch 118/150\n",
            "768/768 [==============================] - 0s 39us/step - loss: 0.5810 - acc: 0.7083\n",
            "Epoch 119/150\n",
            "768/768 [==============================] - 0s 38us/step - loss: 0.5887 - acc: 0.6836\n",
            "Epoch 120/150\n",
            "768/768 [==============================] - 0s 36us/step - loss: 0.5787 - acc: 0.7096\n",
            "Epoch 121/150\n",
            "768/768 [==============================] - 0s 35us/step - loss: 0.5818 - acc: 0.7044\n",
            "Epoch 122/150\n",
            "768/768 [==============================] - 0s 37us/step - loss: 0.5823 - acc: 0.7044\n",
            "Epoch 123/150\n",
            "768/768 [==============================] - 0s 38us/step - loss: 0.5807 - acc: 0.7122\n",
            "Epoch 124/150\n",
            "768/768 [==============================] - 0s 42us/step - loss: 0.5778 - acc: 0.7148\n",
            "Epoch 125/150\n",
            "768/768 [==============================] - 0s 36us/step - loss: 0.5839 - acc: 0.7214\n",
            "Epoch 126/150\n",
            "768/768 [==============================] - 0s 37us/step - loss: 0.5800 - acc: 0.7096\n",
            "Epoch 127/150\n",
            "768/768 [==============================] - 0s 35us/step - loss: 0.5751 - acc: 0.7201\n",
            "Epoch 128/150\n",
            "768/768 [==============================] - 0s 36us/step - loss: 0.5785 - acc: 0.7109\n",
            "Epoch 129/150\n",
            "768/768 [==============================] - 0s 36us/step - loss: 0.5770 - acc: 0.7161\n",
            "Epoch 130/150\n",
            "768/768 [==============================] - 0s 35us/step - loss: 0.5844 - acc: 0.7109\n",
            "Epoch 131/150\n",
            "768/768 [==============================] - 0s 38us/step - loss: 0.5795 - acc: 0.7083\n",
            "Epoch 132/150\n",
            "768/768 [==============================] - 0s 39us/step - loss: 0.5812 - acc: 0.7070\n",
            "Epoch 133/150\n",
            "768/768 [==============================] - 0s 35us/step - loss: 0.5795 - acc: 0.7057\n",
            "Epoch 134/150\n",
            "768/768 [==============================] - 0s 40us/step - loss: 0.5757 - acc: 0.7148\n",
            "Epoch 135/150\n",
            "768/768 [==============================] - 0s 38us/step - loss: 0.5755 - acc: 0.7253\n",
            "Epoch 136/150\n",
            "768/768 [==============================] - 0s 36us/step - loss: 0.5762 - acc: 0.7135\n",
            "Epoch 137/150\n",
            "768/768 [==============================] - 0s 35us/step - loss: 0.5772 - acc: 0.7161\n",
            "Epoch 138/150\n",
            "768/768 [==============================] - 0s 35us/step - loss: 0.5764 - acc: 0.7096\n",
            "Epoch 139/150\n",
            "768/768 [==============================] - 0s 36us/step - loss: 0.5776 - acc: 0.7135\n",
            "Epoch 140/150\n",
            "768/768 [==============================] - 0s 36us/step - loss: 0.5713 - acc: 0.7253\n",
            "Epoch 141/150\n",
            "768/768 [==============================] - 0s 36us/step - loss: 0.5797 - acc: 0.7096\n",
            "Epoch 142/150\n",
            "768/768 [==============================] - 0s 37us/step - loss: 0.5749 - acc: 0.7174\n",
            "Epoch 143/150\n",
            "768/768 [==============================] - 0s 36us/step - loss: 0.5801 - acc: 0.7096\n",
            "Epoch 144/150\n",
            "768/768 [==============================] - 0s 36us/step - loss: 0.5764 - acc: 0.7109\n",
            "Epoch 145/150\n",
            "768/768 [==============================] - 0s 37us/step - loss: 0.5801 - acc: 0.7135\n",
            "Epoch 146/150\n",
            "768/768 [==============================] - 0s 35us/step - loss: 0.5798 - acc: 0.7070\n",
            "Epoch 147/150\n",
            "768/768 [==============================] - 0s 35us/step - loss: 0.5834 - acc: 0.7188\n",
            "Epoch 148/150\n",
            "768/768 [==============================] - 0s 39us/step - loss: 0.5844 - acc: 0.7070\n",
            "Epoch 149/150\n",
            "768/768 [==============================] - 0s 35us/step - loss: 0.5716 - acc: 0.7201\n",
            "Epoch 150/150\n",
            "768/768 [==============================] - 0s 36us/step - loss: 0.5747 - acc: 0.7161\n"
          ],
          "name": "stdout"
        },
        {
          "output_type": "execute_result",
          "data": {
            "text/plain": [
              "<keras.callbacks.History at 0x7f17fe0860f0>"
            ]
          },
          "metadata": {
            "tags": []
          },
          "execution_count": 36
        }
      ]
    },
    {
      "cell_type": "code",
      "metadata": {
        "id": "Z1wfKUxszPKa",
        "colab_type": "code",
        "outputId": "0cdacd1d-6e5a-4bbe-fabb-568cd94724be",
        "colab": {
          "base_uri": "https://localhost:8080/",
          "height": 69
        }
      },
      "source": [
        "# evaluate the model\n",
        "scores = model.evaluate(X, Y)\n",
        "print(f\"{model.metrics_names[1]}: {scores[1]*100}\")"
      ],
      "execution_count": 0,
      "outputs": [
        {
          "output_type": "stream",
          "text": [
            "768/768 [==============================] - 0s 134us/step\n",
            "\n",
            "acc: 73.83%\n"
          ],
          "name": "stdout"
        }
      ]
    },
    {
      "cell_type": "markdown",
      "metadata": {
        "id": "zHYB7k9q3O8T",
        "colab_type": "text"
      },
      "source": [
        "### Why are we getting such different results if we re-run the model?\n",
        "\n",
        "<https://machinelearningmastery.com/randomness-in-machine-learning/>"
      ]
    },
    {
      "cell_type": "markdown",
      "metadata": {
        "id": "ueDVpctAzvy8",
        "colab_type": "text"
      },
      "source": [
        "# What architecture should we try?"
      ]
    },
    {
      "cell_type": "code",
      "metadata": {
        "id": "6W2Sc7-LzQo_",
        "colab_type": "code",
        "colab": {
          "base_uri": "https://localhost:8080/",
          "height": 1000
        },
        "outputId": "e118678f-5974-4521-e752-1939443c2d3b"
      },
      "source": [
        "model_improved = Sequential()\n",
        "\n",
        "# Input+first hidden\n",
        "model_improved.add(Dense(10, input_dim=8, activation='relu'))\n",
        "# Hidden\n",
        "model_improved.add(Dense(3, activation='sigmoid'))\n",
        "# Output layer\n",
        "model_improved.add(Dense(1, activation='sigmoid'))\n",
        "\n",
        "model_improved.compile(loss='binary_crossentropy', optimizer='adam', metrics=['accuracy'])\n",
        "model_improved.fit(X, Y, epochs=150)"
      ],
      "execution_count": 15,
      "outputs": [
        {
          "output_type": "stream",
          "text": [
            "Epoch 1/150\n",
            "768/768 [==============================] - 0s 175us/sample - loss: 0.8855 - acc: 0.3490\n",
            "Epoch 2/150\n",
            "768/768 [==============================] - 0s 43us/sample - loss: 0.8608 - acc: 0.3490\n",
            "Epoch 3/150\n",
            "768/768 [==============================] - 0s 43us/sample - loss: 0.8384 - acc: 0.3490\n",
            "Epoch 4/150\n",
            "768/768 [==============================] - 0s 48us/sample - loss: 0.8165 - acc: 0.3490\n",
            "Epoch 5/150\n",
            "768/768 [==============================] - 0s 48us/sample - loss: 0.7980 - acc: 0.3490\n",
            "Epoch 6/150\n",
            "768/768 [==============================] - 0s 50us/sample - loss: 0.7816 - acc: 0.3490\n",
            "Epoch 7/150\n",
            "768/768 [==============================] - 0s 56us/sample - loss: 0.7664 - acc: 0.3490\n",
            "Epoch 8/150\n",
            "768/768 [==============================] - 0s 45us/sample - loss: 0.7528 - acc: 0.3490\n",
            "Epoch 9/150\n",
            "768/768 [==============================] - 0s 47us/sample - loss: 0.7403 - acc: 0.3490\n",
            "Epoch 10/150\n",
            "768/768 [==============================] - 0s 47us/sample - loss: 0.7291 - acc: 0.3490\n",
            "Epoch 11/150\n",
            "768/768 [==============================] - 0s 42us/sample - loss: 0.7194 - acc: 0.3490\n",
            "Epoch 12/150\n",
            "768/768 [==============================] - 0s 43us/sample - loss: 0.7094 - acc: 0.3490\n",
            "Epoch 13/150\n",
            "768/768 [==============================] - 0s 52us/sample - loss: 0.7018 - acc: 0.3490\n",
            "Epoch 14/150\n",
            "768/768 [==============================] - 0s 45us/sample - loss: 0.6945 - acc: 0.4479\n",
            "Epoch 15/150\n",
            "768/768 [==============================] - 0s 43us/sample - loss: 0.6879 - acc: 0.6510\n",
            "Epoch 16/150\n",
            "768/768 [==============================] - 0s 45us/sample - loss: 0.6823 - acc: 0.6523\n",
            "Epoch 17/150\n",
            "768/768 [==============================] - 0s 64us/sample - loss: 0.6773 - acc: 0.6523\n",
            "Epoch 18/150\n",
            "768/768 [==============================] - 0s 44us/sample - loss: 0.6728 - acc: 0.6523\n",
            "Epoch 19/150\n",
            "768/768 [==============================] - 0s 47us/sample - loss: 0.6690 - acc: 0.6523\n",
            "Epoch 20/150\n",
            "768/768 [==============================] - 0s 52us/sample - loss: 0.6659 - acc: 0.6523\n",
            "Epoch 21/150\n",
            "768/768 [==============================] - 0s 43us/sample - loss: 0.6626 - acc: 0.6523\n",
            "Epoch 22/150\n",
            "768/768 [==============================] - 0s 49us/sample - loss: 0.6602 - acc: 0.6523\n",
            "Epoch 23/150\n",
            "768/768 [==============================] - 0s 46us/sample - loss: 0.6581 - acc: 0.6523\n",
            "Epoch 24/150\n",
            "768/768 [==============================] - 0s 55us/sample - loss: 0.6562 - acc: 0.6523\n",
            "Epoch 25/150\n",
            "768/768 [==============================] - 0s 42us/sample - loss: 0.6545 - acc: 0.6523\n",
            "Epoch 26/150\n",
            "768/768 [==============================] - 0s 43us/sample - loss: 0.6531 - acc: 0.6523\n",
            "Epoch 27/150\n",
            "768/768 [==============================] - 0s 47us/sample - loss: 0.6519 - acc: 0.6523\n",
            "Epoch 28/150\n",
            "768/768 [==============================] - 0s 45us/sample - loss: 0.6510 - acc: 0.6523\n",
            "Epoch 29/150\n",
            "768/768 [==============================] - 0s 44us/sample - loss: 0.6501 - acc: 0.6523\n",
            "Epoch 30/150\n",
            "768/768 [==============================] - 0s 49us/sample - loss: 0.6495 - acc: 0.6523\n",
            "Epoch 31/150\n",
            "768/768 [==============================] - 0s 48us/sample - loss: 0.6488 - acc: 0.6523\n",
            "Epoch 32/150\n",
            "768/768 [==============================] - 0s 50us/sample - loss: 0.6483 - acc: 0.6523\n",
            "Epoch 33/150\n",
            "768/768 [==============================] - 0s 47us/sample - loss: 0.6479 - acc: 0.6523\n",
            "Epoch 34/150\n",
            "768/768 [==============================] - 0s 52us/sample - loss: 0.6476 - acc: 0.6523\n",
            "Epoch 35/150\n",
            "768/768 [==============================] - 0s 43us/sample - loss: 0.6473 - acc: 0.6523\n",
            "Epoch 36/150\n",
            "768/768 [==============================] - 0s 44us/sample - loss: 0.6470 - acc: 0.6523\n",
            "Epoch 37/150\n",
            "768/768 [==============================] - 0s 46us/sample - loss: 0.6468 - acc: 0.6523\n",
            "Epoch 38/150\n",
            "768/768 [==============================] - 0s 49us/sample - loss: 0.6466 - acc: 0.6523\n",
            "Epoch 39/150\n",
            "768/768 [==============================] - 0s 55us/sample - loss: 0.6465 - acc: 0.6523\n",
            "Epoch 40/150\n",
            "768/768 [==============================] - 0s 43us/sample - loss: 0.6462 - acc: 0.6523\n",
            "Epoch 41/150\n",
            "768/768 [==============================] - 0s 44us/sample - loss: 0.6460 - acc: 0.6523\n",
            "Epoch 42/150\n",
            "768/768 [==============================] - 0s 45us/sample - loss: 0.6459 - acc: 0.6523\n",
            "Epoch 43/150\n",
            "768/768 [==============================] - 0s 52us/sample - loss: 0.6457 - acc: 0.6523\n",
            "Epoch 44/150\n",
            "768/768 [==============================] - 0s 53us/sample - loss: 0.6457 - acc: 0.6523\n",
            "Epoch 45/150\n",
            "768/768 [==============================] - 0s 47us/sample - loss: 0.6449 - acc: 0.6536\n",
            "Epoch 46/150\n",
            "768/768 [==============================] - 0s 49us/sample - loss: 0.6448 - acc: 0.6549\n",
            "Epoch 47/150\n",
            "768/768 [==============================] - 0s 44us/sample - loss: 0.6444 - acc: 0.6562\n",
            "Epoch 48/150\n",
            "768/768 [==============================] - 0s 44us/sample - loss: 0.6435 - acc: 0.6562\n",
            "Epoch 49/150\n",
            "768/768 [==============================] - 0s 57us/sample - loss: 0.6420 - acc: 0.6549\n",
            "Epoch 50/150\n",
            "768/768 [==============================] - 0s 43us/sample - loss: 0.6378 - acc: 0.6589\n",
            "Epoch 51/150\n",
            "768/768 [==============================] - 0s 43us/sample - loss: 0.6389 - acc: 0.6562\n",
            "Epoch 52/150\n",
            "768/768 [==============================] - 0s 47us/sample - loss: 0.6330 - acc: 0.6706\n",
            "Epoch 53/150\n",
            "768/768 [==============================] - 0s 49us/sample - loss: 0.6357 - acc: 0.6654\n",
            "Epoch 54/150\n",
            "768/768 [==============================] - 0s 43us/sample - loss: 0.6344 - acc: 0.6680\n",
            "Epoch 55/150\n",
            "768/768 [==============================] - 0s 51us/sample - loss: 0.6316 - acc: 0.6706\n",
            "Epoch 56/150\n",
            "768/768 [==============================] - 0s 46us/sample - loss: 0.6313 - acc: 0.6732\n",
            "Epoch 57/150\n",
            "768/768 [==============================] - 0s 48us/sample - loss: 0.6300 - acc: 0.6745\n",
            "Epoch 58/150\n",
            "768/768 [==============================] - 0s 47us/sample - loss: 0.6291 - acc: 0.6719\n",
            "Epoch 59/150\n",
            "768/768 [==============================] - 0s 47us/sample - loss: 0.6291 - acc: 0.6719\n",
            "Epoch 60/150\n",
            "768/768 [==============================] - 0s 46us/sample - loss: 0.6287 - acc: 0.6693\n",
            "Epoch 61/150\n",
            "768/768 [==============================] - 0s 55us/sample - loss: 0.6286 - acc: 0.6758\n",
            "Epoch 62/150\n",
            "768/768 [==============================] - 0s 45us/sample - loss: 0.6278 - acc: 0.6745\n",
            "Epoch 63/150\n",
            "768/768 [==============================] - 0s 50us/sample - loss: 0.6277 - acc: 0.6745\n",
            "Epoch 64/150\n",
            "768/768 [==============================] - 0s 52us/sample - loss: 0.6269 - acc: 0.6732\n",
            "Epoch 65/150\n",
            "768/768 [==============================] - 0s 48us/sample - loss: 0.6270 - acc: 0.6732\n",
            "Epoch 66/150\n",
            "768/768 [==============================] - 0s 55us/sample - loss: 0.6268 - acc: 0.6732\n",
            "Epoch 67/150\n",
            "768/768 [==============================] - 0s 42us/sample - loss: 0.6283 - acc: 0.6745\n",
            "Epoch 68/150\n",
            "768/768 [==============================] - 0s 43us/sample - loss: 0.6270 - acc: 0.6797\n",
            "Epoch 69/150\n",
            "768/768 [==============================] - 0s 52us/sample - loss: 0.6264 - acc: 0.6771\n",
            "Epoch 70/150\n",
            "768/768 [==============================] - 0s 45us/sample - loss: 0.6257 - acc: 0.6732\n",
            "Epoch 71/150\n",
            "768/768 [==============================] - 0s 46us/sample - loss: 0.6267 - acc: 0.6771\n",
            "Epoch 72/150\n",
            "768/768 [==============================] - 0s 49us/sample - loss: 0.6257 - acc: 0.6758\n",
            "Epoch 73/150\n",
            "768/768 [==============================] - 0s 51us/sample - loss: 0.6259 - acc: 0.6784\n",
            "Epoch 74/150\n",
            "768/768 [==============================] - 0s 43us/sample - loss: 0.6269 - acc: 0.6797\n",
            "Epoch 75/150\n",
            "768/768 [==============================] - 0s 48us/sample - loss: 0.6252 - acc: 0.6784\n",
            "Epoch 76/150\n",
            "768/768 [==============================] - 0s 44us/sample - loss: 0.6258 - acc: 0.6771\n",
            "Epoch 77/150\n",
            "768/768 [==============================] - 0s 48us/sample - loss: 0.6250 - acc: 0.6745\n",
            "Epoch 78/150\n",
            "768/768 [==============================] - 0s 46us/sample - loss: 0.6250 - acc: 0.6797\n",
            "Epoch 79/150\n",
            "768/768 [==============================] - 0s 43us/sample - loss: 0.6246 - acc: 0.6797\n",
            "Epoch 80/150\n",
            "768/768 [==============================] - 0s 54us/sample - loss: 0.6238 - acc: 0.6784\n",
            "Epoch 81/150\n",
            "768/768 [==============================] - 0s 63us/sample - loss: 0.6230 - acc: 0.6758\n",
            "Epoch 82/150\n",
            "768/768 [==============================] - 0s 49us/sample - loss: 0.6184 - acc: 0.6810\n",
            "Epoch 83/150\n",
            "768/768 [==============================] - 0s 48us/sample - loss: 0.6124 - acc: 0.6823\n",
            "Epoch 84/150\n",
            "768/768 [==============================] - 0s 47us/sample - loss: 0.6119 - acc: 0.6784\n",
            "Epoch 85/150\n",
            "768/768 [==============================] - 0s 49us/sample - loss: 0.6100 - acc: 0.6810\n",
            "Epoch 86/150\n",
            "768/768 [==============================] - 0s 43us/sample - loss: 0.6061 - acc: 0.6836\n",
            "Epoch 87/150\n",
            "768/768 [==============================] - 0s 44us/sample - loss: 0.6042 - acc: 0.6849\n",
            "Epoch 88/150\n",
            "768/768 [==============================] - 0s 49us/sample - loss: 0.6016 - acc: 0.6836\n",
            "Epoch 89/150\n",
            "768/768 [==============================] - 0s 46us/sample - loss: 0.6009 - acc: 0.6849\n",
            "Epoch 90/150\n",
            "768/768 [==============================] - 0s 44us/sample - loss: 0.6028 - acc: 0.6810\n",
            "Epoch 91/150\n",
            "768/768 [==============================] - 0s 42us/sample - loss: 0.5985 - acc: 0.6901\n",
            "Epoch 92/150\n",
            "768/768 [==============================] - 0s 47us/sample - loss: 0.5977 - acc: 0.6836\n",
            "Epoch 93/150\n",
            "768/768 [==============================] - 0s 51us/sample - loss: 0.5952 - acc: 0.6875\n",
            "Epoch 94/150\n",
            "768/768 [==============================] - 0s 47us/sample - loss: 0.5990 - acc: 0.6862\n",
            "Epoch 95/150\n",
            "768/768 [==============================] - 0s 52us/sample - loss: 0.5942 - acc: 0.6875\n",
            "Epoch 96/150\n",
            "768/768 [==============================] - 0s 43us/sample - loss: 0.5922 - acc: 0.6862\n",
            "Epoch 97/150\n",
            "768/768 [==============================] - 0s 42us/sample - loss: 0.5914 - acc: 0.6875\n",
            "Epoch 98/150\n",
            "768/768 [==============================] - 0s 46us/sample - loss: 0.5931 - acc: 0.6888\n",
            "Epoch 99/150\n",
            "768/768 [==============================] - 0s 45us/sample - loss: 0.5896 - acc: 0.6914\n",
            "Epoch 100/150\n",
            "768/768 [==============================] - 0s 49us/sample - loss: 0.5890 - acc: 0.6901\n",
            "Epoch 101/150\n",
            "768/768 [==============================] - 0s 48us/sample - loss: 0.5896 - acc: 0.6862\n",
            "Epoch 102/150\n",
            "768/768 [==============================] - 0s 47us/sample - loss: 0.5877 - acc: 0.6901\n",
            "Epoch 103/150\n",
            "768/768 [==============================] - 0s 45us/sample - loss: 0.5886 - acc: 0.6914\n",
            "Epoch 104/150\n",
            "768/768 [==============================] - 0s 49us/sample - loss: 0.5857 - acc: 0.6940\n",
            "Epoch 105/150\n",
            "768/768 [==============================] - 0s 44us/sample - loss: 0.5867 - acc: 0.6888\n",
            "Epoch 106/150\n",
            "768/768 [==============================] - 0s 44us/sample - loss: 0.5855 - acc: 0.6875\n",
            "Epoch 107/150\n",
            "768/768 [==============================] - 0s 57us/sample - loss: 0.5851 - acc: 0.6914\n",
            "Epoch 108/150\n",
            "768/768 [==============================] - 0s 42us/sample - loss: 0.5835 - acc: 0.6875\n",
            "Epoch 109/150\n",
            "768/768 [==============================] - 0s 47us/sample - loss: 0.5826 - acc: 0.6901\n",
            "Epoch 110/150\n",
            "768/768 [==============================] - 0s 42us/sample - loss: 0.5832 - acc: 0.6914\n",
            "Epoch 111/150\n",
            "768/768 [==============================] - 0s 44us/sample - loss: 0.5829 - acc: 0.6927\n",
            "Epoch 112/150\n",
            "768/768 [==============================] - 0s 48us/sample - loss: 0.5816 - acc: 0.6940\n",
            "Epoch 113/150\n",
            "768/768 [==============================] - 0s 47us/sample - loss: 0.5824 - acc: 0.6927\n",
            "Epoch 114/150\n",
            "768/768 [==============================] - 0s 46us/sample - loss: 0.5825 - acc: 0.6901\n",
            "Epoch 115/150\n",
            "768/768 [==============================] - 0s 50us/sample - loss: 0.5801 - acc: 0.6953\n",
            "Epoch 116/150\n",
            "768/768 [==============================] - 0s 48us/sample - loss: 0.5799 - acc: 0.6966\n",
            "Epoch 117/150\n",
            "768/768 [==============================] - 0s 47us/sample - loss: 0.5797 - acc: 0.6966\n",
            "Epoch 118/150\n",
            "768/768 [==============================] - 0s 47us/sample - loss: 0.5784 - acc: 0.6927\n",
            "Epoch 119/150\n",
            "768/768 [==============================] - 0s 49us/sample - loss: 0.5792 - acc: 0.6953\n",
            "Epoch 120/150\n",
            "768/768 [==============================] - 0s 44us/sample - loss: 0.5790 - acc: 0.6953\n",
            "Epoch 121/150\n",
            "768/768 [==============================] - 0s 43us/sample - loss: 0.5797 - acc: 0.6914\n",
            "Epoch 122/150\n",
            "768/768 [==============================] - 0s 51us/sample - loss: 0.5804 - acc: 0.6888\n",
            "Epoch 123/150\n",
            "768/768 [==============================] - 0s 42us/sample - loss: 0.5810 - acc: 0.6914\n",
            "Epoch 124/150\n",
            "768/768 [==============================] - 0s 45us/sample - loss: 0.5807 - acc: 0.6966\n",
            "Epoch 125/150\n",
            "768/768 [==============================] - 0s 52us/sample - loss: 0.5773 - acc: 0.7005\n",
            "Epoch 126/150\n",
            "768/768 [==============================] - 0s 45us/sample - loss: 0.5745 - acc: 0.6979\n",
            "Epoch 127/150\n",
            "768/768 [==============================] - 0s 52us/sample - loss: 0.5749 - acc: 0.6979\n",
            "Epoch 128/150\n",
            "768/768 [==============================] - 0s 44us/sample - loss: 0.5745 - acc: 0.6953\n",
            "Epoch 129/150\n",
            "768/768 [==============================] - 0s 46us/sample - loss: 0.5758 - acc: 0.6927\n",
            "Epoch 130/150\n",
            "768/768 [==============================] - 0s 50us/sample - loss: 0.5740 - acc: 0.7005\n",
            "Epoch 131/150\n",
            "768/768 [==============================] - 0s 51us/sample - loss: 0.5724 - acc: 0.6992\n",
            "Epoch 132/150\n",
            "768/768 [==============================] - 0s 51us/sample - loss: 0.5725 - acc: 0.6979\n",
            "Epoch 133/150\n",
            "768/768 [==============================] - 0s 47us/sample - loss: 0.5718 - acc: 0.6992\n",
            "Epoch 134/150\n",
            "768/768 [==============================] - 0s 43us/sample - loss: 0.5732 - acc: 0.7018\n",
            "Epoch 135/150\n",
            "768/768 [==============================] - 0s 48us/sample - loss: 0.5717 - acc: 0.6940\n",
            "Epoch 136/150\n",
            "768/768 [==============================] - 0s 44us/sample - loss: 0.5735 - acc: 0.6979\n",
            "Epoch 137/150\n",
            "768/768 [==============================] - 0s 46us/sample - loss: 0.5704 - acc: 0.6992\n",
            "Epoch 138/150\n",
            "768/768 [==============================] - 0s 44us/sample - loss: 0.5737 - acc: 0.6979\n",
            "Epoch 139/150\n",
            "768/768 [==============================] - 0s 44us/sample - loss: 0.5707 - acc: 0.6953\n",
            "Epoch 140/150\n",
            "768/768 [==============================] - 0s 49us/sample - loss: 0.5694 - acc: 0.6966\n",
            "Epoch 141/150\n",
            "768/768 [==============================] - 0s 45us/sample - loss: 0.5706 - acc: 0.7005\n",
            "Epoch 142/150\n",
            "768/768 [==============================] - 0s 46us/sample - loss: 0.5701 - acc: 0.7044\n",
            "Epoch 143/150\n",
            "768/768 [==============================] - 0s 43us/sample - loss: 0.5714 - acc: 0.6940\n",
            "Epoch 144/150\n",
            "768/768 [==============================] - 0s 47us/sample - loss: 0.5680 - acc: 0.7018\n",
            "Epoch 145/150\n",
            "768/768 [==============================] - 0s 41us/sample - loss: 0.5683 - acc: 0.7018\n",
            "Epoch 146/150\n",
            "768/768 [==============================] - 0s 43us/sample - loss: 0.5685 - acc: 0.7031\n",
            "Epoch 147/150\n",
            "768/768 [==============================] - 0s 46us/sample - loss: 0.5685 - acc: 0.7005\n",
            "Epoch 148/150\n",
            "768/768 [==============================] - 0s 41us/sample - loss: 0.5670 - acc: 0.7044\n",
            "Epoch 149/150\n",
            "768/768 [==============================] - 0s 42us/sample - loss: 0.5667 - acc: 0.7057\n",
            "Epoch 150/150\n",
            "768/768 [==============================] - 0s 48us/sample - loss: 0.5663 - acc: 0.7031\n"
          ],
          "name": "stdout"
        },
        {
          "output_type": "execute_result",
          "data": {
            "text/plain": [
              "<tensorflow.python.keras.callbacks.History at 0x7f0bfad8aba8>"
            ]
          },
          "metadata": {
            "tags": []
          },
          "execution_count": 15
        }
      ]
    },
    {
      "cell_type": "code",
      "metadata": {
        "id": "0_O9mkO86C39",
        "colab_type": "code",
        "colab": {
          "base_uri": "https://localhost:8080/",
          "height": 255
        },
        "outputId": "943e4cb6-2959-4103-b9f8-f06f27e432c9"
      },
      "source": [
        "model_improved.summary()"
      ],
      "execution_count": 16,
      "outputs": [
        {
          "output_type": "stream",
          "text": [
            "Model: \"sequential_3\"\n",
            "_________________________________________________________________\n",
            "Layer (type)                 Output Shape              Param #   \n",
            "=================================================================\n",
            "dense_1 (Dense)              (None, 10)                90        \n",
            "_________________________________________________________________\n",
            "dense_2 (Dense)              (None, 3)                 33        \n",
            "_________________________________________________________________\n",
            "dense_3 (Dense)              (None, 1)                 4         \n",
            "=================================================================\n",
            "Total params: 127\n",
            "Trainable params: 127\n",
            "Non-trainable params: 0\n",
            "_________________________________________________________________\n"
          ],
          "name": "stdout"
        }
      ]
    },
    {
      "cell_type": "code",
      "metadata": {
        "id": "6Hqlsp_q6hzG",
        "colab_type": "code",
        "colab": {
          "base_uri": "https://localhost:8080/",
          "height": 34
        },
        "outputId": "dcd960ee-4416-4f02-fcc4-630bf5c9b1e7"
      },
      "source": [
        "model_improved.fit(X, Y, epochs=150, batch_size=32, verbose=0)"
      ],
      "execution_count": 19,
      "outputs": [
        {
          "output_type": "execute_result",
          "data": {
            "text/plain": [
              "<tensorflow.python.keras.callbacks.History at 0x7f0bfa9f99b0>"
            ]
          },
          "metadata": {
            "tags": []
          },
          "execution_count": 19
        }
      ]
    },
    {
      "cell_type": "code",
      "metadata": {
        "id": "MAF2fpkm7CIW",
        "colab_type": "code",
        "colab": {
          "base_uri": "https://localhost:8080/",
          "height": 34
        },
        "outputId": "e280e08f-5a8f-46c5-ae7f-5e52905e0f3b"
      },
      "source": [
        "score = model_improved.evaluate(X, y)"
      ],
      "execution_count": 20,
      "outputs": [
        {
          "output_type": "stream",
          "text": [
            "768/768 [==============================] - 0s 41us/sample - loss: 0.4527 - acc: 0.7773\n"
          ],
          "name": "stdout"
        }
      ]
    },
    {
      "cell_type": "markdown",
      "metadata": {
        "id": "tcjMuxtn6wIQ",
        "colab_type": "text"
      },
      "source": [
        "# Activation Functions\n",
        "\n",
        "What is an activation function and how does it work?\n",
        "\n",
        "- Takes in a weighted sum of inputs + a bias from the previous layer and outputs an \"activation\" value.\n",
        "- Based its inputs the neuron decides how 'activated' it should be. This can be thought of as the neuron deciding how strongly to fire. You can also think of it as if the neuron is deciding how much of the signal that it has received to pass onto the next layer. \n",
        "- Our choice of activation function does not only affect signal that is passed forward but also affects the backpropagation algorithm. It affects how we update weights in reverse order since activated weight/input sums become the inputs of the next layer. \n"
      ]
    },
    {
      "cell_type": "markdown",
      "metadata": {
        "id": "n_b0u8Ch60bA",
        "colab_type": "text"
      },
      "source": [
        "## Step Function\n",
        "\n",
        "![Heaviside Step Function](https://upload.wikimedia.org/wikipedia/commons/thumb/d/d9/Dirac_distribution_CDF.svg/325px-Dirac_distribution_CDF.svg.png)\n",
        "\n",
        "All or nothing, a little extreme, which is fine, but makes updating weights through backpropagation impossible. Why? remember that during backpropagation we use derivatives in order to determine how much to update or not update weights. What is the derivative of the step function?"
      ]
    },
    {
      "cell_type": "markdown",
      "metadata": {
        "id": "vKR0YhIVEnXZ",
        "colab_type": "text"
      },
      "source": [
        "## Linear Function\n",
        "\n",
        "![Linear Function](http://www.roconnell.net/Parent%20function/linear.gif)\n",
        "\n",
        "The linear function takes the opposite tact from the step function and passes the signal onto the next layer by a constant factor. There are problems with this but the biggest problems again lie in backpropagation. The derivative of any linear function is a horizontal line which would indicate that we should update all weights by a constant amount every time -which on balance wouldn't change the behavior of our network. Linear functions are typically only used for very simple tasks where interpretability is important, but if interpretability is your highest priority, you probably shouldn't be using neural networks in the first place."
      ]
    },
    {
      "cell_type": "markdown",
      "metadata": {
        "id": "JFurIVL6EkQ8",
        "colab_type": "text"
      },
      "source": [
        "## Sigmoid Function\n",
        "\n",
        "![Sigmoid Function](https://upload.wikimedia.org/wikipedia/commons/thumb/8/88/Logistic-curve.svg/480px-Logistic-curve.svg.png)\n",
        "\n",
        "The sigmoid function works great as an activation function! it's continuously differentiable, its derivative doesn't have a constant slope, and having the higher slope in the middle pushes y value predictions towards extremes which is particularly useful for binary classification problems. I mean, this is why we use it as the squishifier in logistic regression as well. It constrains output, but over repeated epochs pushes predictions towards a strong binary prediction. \n",
        "\n",
        "What's the biggest problem with the sigmoid function? The fact that its slope gets pretty flat so quickly after its departure from zero. This means that updating weights based on its gradient really diminishes the size of our weight updates as our model gets more confident about its classifications. This is why even after so many iterations with our test score example we couldn't reach the levels of fit that our gradient descent based model could reach in just a few epochs."
      ]
    },
    {
      "cell_type": "markdown",
      "metadata": {
        "id": "hm6p1HWbEhYi",
        "colab_type": "text"
      },
      "source": [
        "## Tanh Function\n",
        "\n",
        "![Tanh Function](http://mathworld.wolfram.com/images/interactive/TanhReal.gif)\n",
        "\n",
        "What if the sigmoid function didn't get so flat quite as soon when moving away from zero and was a little bit steeper in the middle? That's basically the Tanh function. The Tanh function can actually be created by scaling the sigmoid function by 2 in the y dimension and subtracting 1 from all values. It has basically the same properties as the sigmoid, still struggles from diminishingly flat gradients as we move away from 0, but its derivative is higher around 0 causing weights to move to the extremes a little faster. "
      ]
    },
    {
      "cell_type": "markdown",
      "metadata": {
        "id": "sFOn_L6gEcz1",
        "colab_type": "text"
      },
      "source": [
        "## ReLU Function\n",
        "\n",
        "![ReLU Function](https://cdn-images-1.medium.com/max/937/1*oePAhrm74RNnNEolprmTaQ.png)\n",
        "\n",
        "ReLU stands for Rectified Linear Units it is by far the most commonly used activation function in modern neural networks. It doesn't activate neurons that are being passed a negative signal and passes on positive signals. Think about why this might be useful. Remember how a lot of our initial weights got set to negative numbers by chance? This would have dealt with those negative weights a lot faster than the sigmoid function updating. What does the derivative of this function look like? It looks like the step function! This means that not all neurons are activated. With sigmoid basically all of our neurons are passing some amount of signal even if it's small making it hard for the network to differentiate important and less important connections. ReLU turns off a portion of our less important neurons which decreases computational load, but also helps the network learn what the most important connections are faster. \n",
        "\n",
        "What's the problem with relu? Well the left half of its derivative function shows that for neurons that are initialized with weights that cause them to have no activation, our gradient will not update those neuron's weights, this can lead to dead neurons that never fire and whose weights never get updated. We would probably want to update the weights of neurons that didn't fire even if it's just by a little bit in case we got unlucky with our initial weights and want to give those neurons a chance of turning back on in the future."
      ]
    },
    {
      "cell_type": "markdown",
      "metadata": {
        "id": "XWdvWOBIETwk",
        "colab_type": "text"
      },
      "source": [
        "## Leaky ReLU\n",
        "\n",
        "![Leaky ReLU](https://cdn-images-1.medium.com/max/1600/1*ypsvQH7kvtI2BhzR2eT_Sw.png)\n",
        "\n",
        "Leaky ReLU accomplishes exactly that! it avoids having a gradient of 0 on the left side of its derivative function. This means that even \"dead\" neurons have a chance of being revived over enough iterations. In some specifications the slope of the leaky left-hand side can also be experimented with as a hyperparameter of the model!"
      ]
    },
    {
      "cell_type": "markdown",
      "metadata": {
        "id": "FcAxkNFREMFb",
        "colab_type": "text"
      },
      "source": [
        "## Softmax Function\n",
        "\n",
        "![Softmax Function](https://cdn-images-1.medium.com/max/800/1*670CdxchunD-yAuUWdI7Bw.png)\n",
        "\n",
        "Like the sigmoid function but more useful for multi-class classification problems. The softmax function can take any set of inputs and translate them into probabilities that sum up to 1. This means that we can throw any list of outputs at it and it will translate them into probabilities, this is extremely useful for multi-class classification problems. Like MNIST for example..."
      ]
    },
    {
      "cell_type": "markdown",
      "metadata": {
        "id": "23-XRRXKHs34",
        "colab_type": "text"
      },
      "source": [
        "## Major takeaways\n",
        "\n",
        "- ReLU is generally better at obtaining the optimal model fit.\n",
        "- Sigmoid and its derivatives are usually better at classification problems.\n",
        "- Softmax for multi-class classification problems. \n",
        "\n",
        "You'll typically see ReLU used for all initial layers and then the final layer being sigmoid or softmax for classification problems. But you can experiment and tune these selections as hyperparameters as well!"
      ]
    },
    {
      "cell_type": "markdown",
      "metadata": {
        "id": "TWuoXZCCKCI7",
        "colab_type": "text"
      },
      "source": [
        "## MNIST with Keras \n",
        "\n",
        "### This will be a good chance to bring up dropout regularization. :)"
      ]
    },
    {
      "cell_type": "code",
      "metadata": {
        "id": "jmJ_5azs04pU",
        "colab_type": "code",
        "colab": {}
      },
      "source": [
        "### Let's do it!\n",
        "\n",
        "from tensorflow import keras\n",
        "from tensorflow.keras.datasets import mnist\n",
        "from tensorflow.keras.models import Sequential\n",
        "from tensorflow.keras.layers import Dense\n",
        "\n",
        "import numpy as np"
      ],
      "execution_count": 0,
      "outputs": []
    },
    {
      "cell_type": "code",
      "metadata": {
        "id": "HiWzKQJxB82o",
        "colab_type": "code",
        "colab": {}
      },
      "source": [
        "batch_size = 64\n",
        "num_class = 10\n",
        "epochs = 150\n",
        "\n",
        "(X_train, y_train), (X_test, y_test) = mnist.load_data()\n",
        "\n",
        "X_train = X_train.reshape(60000, 784).astype('float32')\n",
        "X_test = X_test.reshape(10000, 784).astype('float32')\n",
        "# Vectorize y\n",
        "\n",
        "y_train = keras.utils.to_categorical(y_train, num_class)\n",
        "y_test = keras.utils.to_categorical(y_test, num_class)"
      ],
      "execution_count": 0,
      "outputs": []
    },
    {
      "cell_type": "code",
      "metadata": {
        "id": "GCYMujpqD10D",
        "colab_type": "code",
        "colab": {
          "base_uri": "https://localhost:8080/",
          "height": 255
        },
        "outputId": "189a5677-6e8f-4666-eb70-857b3ff58f84"
      },
      "source": [
        "mnist_model = Sequential()\n",
        "#Input/hidden\n",
        "mnist_model.add(Dense(16, input_shape=(784, ), activation='relu'))\n",
        "#Hidden\n",
        "mnist_model.add(Dense(16, activation='relu'))\n",
        "#Output\n",
        "mnist_model.add(Dense(10, activation='softmax'))\n",
        "\n",
        "mnist_model.compile(loss='categorical_crossentropy', optimizer='adam', metrics=['accuracy'])\n",
        "mnist_model.summary()"
      ],
      "execution_count": 42,
      "outputs": [
        {
          "output_type": "stream",
          "text": [
            "Model: \"sequential_8\"\n",
            "_________________________________________________________________\n",
            "Layer (type)                 Output Shape              Param #   \n",
            "=================================================================\n",
            "dense_16 (Dense)             (None, 16)                12560     \n",
            "_________________________________________________________________\n",
            "dense_17 (Dense)             (None, 16)                272       \n",
            "_________________________________________________________________\n",
            "dense_18 (Dense)             (None, 10)                170       \n",
            "=================================================================\n",
            "Total params: 13,002\n",
            "Trainable params: 13,002\n",
            "Non-trainable params: 0\n",
            "_________________________________________________________________\n"
          ],
          "name": "stdout"
        }
      ]
    },
    {
      "cell_type": "code",
      "metadata": {
        "id": "wVl98o-zF2fz",
        "colab_type": "code",
        "colab": {
          "base_uri": "https://localhost:8080/",
          "height": 51
        },
        "outputId": "697ac386-224d-4338-98d9-37a29eba5048"
      },
      "source": [
        "history = mnist_model.fit(X_train, y_train, epochs=epochs, validation_split=.1, verbose=0)\n",
        "scores = mnist_model.evaluate(X_test, y_test)\n",
        "print(f'{mnist_model.metrics_names[1]}: {scores[1]*100}')"
      ],
      "execution_count": 43,
      "outputs": [
        {
          "output_type": "stream",
          "text": [
            "10000/10000 [==============================] - 0s 29us/sample - loss: 0.3506 - acc: 0.9131\n",
            "acc: 91.3100004196167\n"
          ],
          "name": "stdout"
        }
      ]
    },
    {
      "cell_type": "code",
      "metadata": {
        "id": "rfznzaY6IQf8",
        "colab_type": "code",
        "colab": {}
      },
      "source": [
        ""
      ],
      "execution_count": 0,
      "outputs": []
    },
    {
      "cell_type": "markdown",
      "metadata": {
        "id": "CKmx8153w9Ci",
        "colab_type": "text"
      },
      "source": [
        "## What if we use dropout techniques to prevent overfitting? How does that affect our model?\n",
        "\n",
        "![Regularization](https://upload.wikimedia.org/wikipedia/commons/thumb/0/02/Regularization.svg/354px-Regularization.svg.png)"
      ]
    },
    {
      "cell_type": "code",
      "metadata": {
        "id": "CWDopERJ16yJ",
        "colab_type": "code",
        "colab": {}
      },
      "source": [
        "### Try it with dropout"
      ],
      "execution_count": 0,
      "outputs": []
    }
  ]
}