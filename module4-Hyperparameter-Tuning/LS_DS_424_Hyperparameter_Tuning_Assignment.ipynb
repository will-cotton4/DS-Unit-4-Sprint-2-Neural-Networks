{
  "nbformat": 4,
  "nbformat_minor": 0,
  "metadata": {
    "colab": {
      "name": "LS_DS_434_Hyperparameter_Tuning_Assignment.ipynb",
      "version": "0.3.2",
      "provenance": []
    },
    "kernelspec": {
      "name": "python3",
      "display_name": "Python 3"
    }
  },
  "cells": [
    {
      "cell_type": "markdown",
      "metadata": {
        "id": "9Ryp-TVm4njD",
        "colab_type": "text"
      },
      "source": [
        "# Your Mission, should you choose to accept it...\n",
        "\n",
        "To hyperparameter tune and extract every ounce of accuracy out of this telecom customer churn dataset: <https://drive.google.com/file/d/1dfbAsM9DwA7tYhInyflIpZnYs7VT-0AQ/view> \n",
        "\n",
        "## Requirements\n",
        "\n",
        "- Load the data\n",
        "- Clean the data if necessary (it will be)"
      ]
    },
    {
      "cell_type": "code",
      "metadata": {
        "id": "fAzYYDgfnPCl",
        "colab_type": "code",
        "colab": {
          "base_uri": "https://localhost:8080/",
          "height": 122
        },
        "outputId": "62c0c0e3-b0bf-41d2-9470-57690e71ac63"
      },
      "source": [
        "!pip install sklearn"
      ],
      "execution_count": 20,
      "outputs": [
        {
          "output_type": "stream",
          "text": [
            "Requirement already satisfied: sklearn in /usr/local/lib/python3.6/dist-packages (0.0)\n",
            "Requirement already satisfied: scikit-learn in /usr/local/lib/python3.6/dist-packages (from sklearn) (0.21.2)\n",
            "Requirement already satisfied: joblib>=0.11 in /usr/local/lib/python3.6/dist-packages (from scikit-learn->sklearn) (0.13.2)\n",
            "Requirement already satisfied: scipy>=0.17.0 in /usr/local/lib/python3.6/dist-packages (from scikit-learn->sklearn) (1.3.0)\n",
            "Requirement already satisfied: numpy>=1.11.0 in /usr/local/lib/python3.6/dist-packages (from scikit-learn->sklearn) (1.16.4)\n"
          ],
          "name": "stdout"
        }
      ]
    },
    {
      "cell_type": "code",
      "metadata": {
        "id": "NNJ-tOBs4jM1",
        "colab_type": "code",
        "colab": {
          "base_uri": "https://localhost:8080/",
          "height": 527
        },
        "outputId": "f7e7cc57-0283-492d-8bfa-021311300964"
      },
      "source": [
        "import pandas as pd\n",
        "import numpy as np\n",
        "from sklearn.model_selection import train_test_split\n",
        "\n",
        "\n",
        "telco_url = 'https://raw.githubusercontent.com/will-cotton4/DS-Unit-4-Sprint-2-Neural-Networks/master/module4-Hyperparameter-Tuning/telcochurn.csv'\n",
        "telco = pd.read_csv(telco_url)\n",
        "\n",
        "def clean(df):\n",
        "  df['gender'] = df['gender'].replace({'Male': 1, 'Female': 0})\n",
        "  df['Partner'] = df['Partner'].replace({'Yes': 1, 'No': 0})\n",
        "  df['Dependents'] = df['Dependents'].replace({'Yes': 1, 'No': 0})\n",
        "  df['PhoneService'] = df['PhoneService'].replace({'Yes': 1, 'No': 0})\n",
        "  df['MultipleLines'] = df['MultipleLines'].replace({'No phone service': 0, 'No': 0, 'Yes': 1})\n",
        "  \n",
        "  df['Fiber'] = df['InternetService'] == 'Fiber optic'\n",
        "  df['Fiber'] = df['Fiber'].astype(int)\n",
        "  df['DSL'] = df['InternetService'] == 'DSL'\n",
        "  df['DSL'] = df['DSL'].astype(int)\n",
        "  df['No Internet'] = df['InternetService'].where(df['InternetService'] == 'No', 0)\n",
        "  df['No Internet'] = df['No Internet'].replace({'No': 1})\n",
        "  \n",
        "  df['OnlineSecurity'] = df['OnlineSecurity'].replace({'Yes': 1, 'No': 0,'No internet service': 0})\n",
        "  df['OnlineBackup'] = df['OnlineBackup'].replace({'Yes': 1, 'No': 0,'No internet service': 0})\n",
        "  df['DeviceProtection'] = df['DeviceProtection'].replace({'Yes': 1, 'No': 0,'No internet service': 0})\n",
        "  df['TechSupport'] = df['TechSupport'].replace({'Yes': 1, 'No': 0,'No internet service': 0})\n",
        "  df['StreamingTV'] = df['StreamingTV'].replace({'Yes': 1, 'No': 0,'No internet service': 0})\n",
        "  df['StreamingMovies'] = df['StreamingMovies'].replace({'Yes': 1, 'No': 0,'No internet service': 0})\n",
        "  \n",
        "  df['Month to month'] = df['Contract'] == 'Month-to-month'\n",
        "  df['Month to month'] = df['Month to month'].astype(int)\n",
        "  df['Two year'] = df['Contract'] == 'Two year'\n",
        "  df['Two year'] = df['Two year'].astype(int)\n",
        "  df['One year'] = df['Contract'] == 'One year'\n",
        "  df['One year'] = df['One year'].astype(int)\n",
        "  \n",
        "  yearly_condition = ('One year' or 'Two year')\n",
        "  df['One or two year'] = df['Contract'] == yearly_condition\n",
        "  df['One or two year'] = df['One or two year'].astype(int)\n",
        "  \n",
        "  df['Electronic check'] = df['PaymentMethod'] == 'Electronic check'\n",
        "  df['Electronic check'] = df['Electronic check'].astype(int)\n",
        "  df['Mailed check'] = df['PaymentMethod'] == 'Mailed check'\n",
        "  df['Mailed check'] = df['Mailed check'].astype(int)\n",
        "  \n",
        "  check_condition = ('Mailed check' or 'Electronic check')\n",
        "  df['pay by check'] = df['PaymentMethod'] == check_condition\n",
        "  df['pay by check'] = df['pay by check'].astype(int)\n",
        "  \n",
        "  df['Bank transfer'] = df['PaymentMethod'] == 'Bank transfer (automatic)'\n",
        "  df['Bank transfer'] = df['Bank transfer'].astype(int)\n",
        "  df['Credit card'] = df['PaymentMethod'] == 'Credit card (automatic)'\n",
        "  df['Credit card'] = df['Credit card'].astype(int)\n",
        "  \n",
        "  auto_pay_condition = ('Bank transfer' or 'Credit card')\n",
        "  df['Auto_pay'] = df['PaymentMethod'] == auto_pay_condition\n",
        "  df['Auto_pay'] = df['Auto_pay'].astype(int)\n",
        "  \n",
        "  df['PaperlessBilling'] = df['PaperlessBilling'].replace({'Yes': 1, 'No': 0})\n",
        "  df['TotalCharges'] = pd.to_numeric(df['TotalCharges'], errors='coerce')\n",
        "  df['TotalCharges'] = df['TotalCharges'].replace({np.nan:0})\n",
        "  df['Churn'] = df['Churn'].replace({'No': 0, 'Yes':1})\n",
        "  df = df.drop(columns = ['customerID', 'Contract', 'PaymentMethod', 'InternetService'])\n",
        "  \n",
        "  X = df.drop(columns = ['Churn'])\n",
        "  y = df['Churn']\n",
        "  return X, y\n",
        "\n",
        "X, y = clean(telco)\n",
        "\n",
        "from tensorflow.keras.utils import to_categorical\n",
        "\n",
        "# y = to_categorical(y, 2)\n",
        "\n",
        "X = X.values\n",
        "y = np.array(y)\n",
        "\n",
        "\n",
        "X_train, X_test, y_train, y_test = train_test_split(X, y, random_state=42, stratify=y)\n",
        "\n"
      ],
      "execution_count": 49,
      "outputs": [
        {
          "output_type": "stream",
          "text": [
            "gender              0\n",
            "SeniorCitizen       0\n",
            "Partner             0\n",
            "Dependents          0\n",
            "tenure              0\n",
            "PhoneService        0\n",
            "MultipleLines       0\n",
            "OnlineSecurity      0\n",
            "OnlineBackup        0\n",
            "DeviceProtection    0\n",
            "TechSupport         0\n",
            "StreamingTV         0\n",
            "StreamingMovies     0\n",
            "PaperlessBilling    0\n",
            "MonthlyCharges      0\n",
            "TotalCharges        0\n",
            "Fiber               0\n",
            "DSL                 0\n",
            "No Internet         0\n",
            "Month to month      0\n",
            "Two year            0\n",
            "One year            0\n",
            "One or two year     0\n",
            "Electronic check    0\n",
            "Mailed check        0\n",
            "pay by check        0\n",
            "Bank transfer       0\n",
            "Credit card         0\n",
            "Auto_pay            0\n",
            "dtype: int64\n"
          ],
          "name": "stdout"
        }
      ]
    },
    {
      "cell_type": "markdown",
      "metadata": {
        "id": "ucwGzXSzmtMp",
        "colab_type": "text"
      },
      "source": [
        "- Create and fit a baseline Keras MLP model to the data.\n"
      ]
    },
    {
      "cell_type": "code",
      "metadata": {
        "id": "C_0POq7oqVS4",
        "colab_type": "code",
        "colab": {
          "base_uri": "https://localhost:8080/",
          "height": 34
        },
        "outputId": "7793510e-5a56-448a-8358-ab4685da856c"
      },
      "source": [
        "print(y_train.shape)"
      ],
      "execution_count": 39,
      "outputs": [
        {
          "output_type": "stream",
          "text": [
            "(5282, 2)\n"
          ],
          "name": "stdout"
        }
      ]
    },
    {
      "cell_type": "code",
      "metadata": {
        "id": "9d6Sk6a4lGGX",
        "colab_type": "code",
        "colab": {
          "base_uri": "https://localhost:8080/",
          "height": 85
        },
        "outputId": "3412fd2c-a75c-4729-d57c-6eb9bb421e76"
      },
      "source": [
        "from tensorflow.keras.models import Sequential\n",
        "from tensorflow.keras.layers import Dense, Dropout\n",
        "\n",
        "model = Sequential()\n",
        "model.add(Dense(30, input_dim=29, activation='relu'))\n",
        "model.add(Dropout(0.2))\n",
        "model.add(Dense(25, activation='relu'))\n",
        "model.add(Dropout(0.2))\n",
        "model.add(Dense(1, activation='sigmoid'))\n",
        "model.compile(loss='binary_crossentropy', optimizer='adam', metrics=['accuracy'])\n",
        "history = model.fit(X_train, y_train, epochs=150, verbose=0)\n",
        "\n",
        "scores = model.evaluate(X_train, y_train)\n",
        "print(\"train \", scores)\n",
        "scores = model.evaluate(X_test, y_test)\n",
        "print(\"test \", scores)"
      ],
      "execution_count": 51,
      "outputs": [
        {
          "output_type": "stream",
          "text": [
            "5282/5282 [==============================] - 0s 46us/sample - loss: 1.7877 - acc: 0.5186\n",
            "train  [1.7876619215418514, 0.51855356]\n",
            "1761/1761 [==============================] - 0s 27us/sample - loss: 1.7766 - acc: 0.5207\n",
            "test  [1.776557861709378, 0.52072686]\n"
          ],
          "name": "stdout"
        }
      ]
    },
    {
      "cell_type": "markdown",
      "metadata": {
        "id": "9e4xpgfFtFZZ",
        "colab_type": "text"
      },
      "source": [
        "- Hyperparameter tune (at least) the following parameters:\n",
        " - batch_size\n",
        " - training epochs\n",
        " - optimizer\n",
        " - learning rate (if applicable to optimizer)\n",
        " - momentum (if applicable to optimizer)\n",
        " - activation functions\n",
        " - network weight initialization\n",
        " - dropout regularization\n",
        " - number of neurons in the hidden layer\n",
        " \n",
        " You must use Grid Search and Cross Validation for your initial pass of the above hyperparameters\n",
        " \n",
        " Try and get the maximum accuracy possible out of this data! You'll save big telecoms millions! Doesn't that sound great?"
      ]
    },
    {
      "cell_type": "code",
      "metadata": {
        "id": "X_VbOyXNwzWm",
        "colab_type": "code",
        "colab": {}
      },
      "source": [
        "def create_model():\n",
        "  model = Sequential()\n",
        "  model.add(Dense(30, input_dim=29, activation='relu'))\n",
        "  model.add(Dropout(0.2))\n",
        "  model.add(Dense(25, activation='relu'))\n",
        "  model.add(Dropout(0.2))\n",
        "  model.add(Dense(1, activation='sigmoid'))\n",
        "  model.compile(loss='binary_crossentropy', optimizer='adam', metrics=['accuracy'])\n",
        "  return model"
      ],
      "execution_count": 0,
      "outputs": []
    },
    {
      "cell_type": "code",
      "metadata": {
        "id": "fGJvcjbfxGLz",
        "colab_type": "code",
        "colab": {
          "base_uri": "https://localhost:8080/",
          "height": 34
        },
        "outputId": "1c08ca46-c0ec-415c-ef8c-f07d40206ae2"
      },
      "source": [
        "from keras.wrappers.scikit_learn import KerasClassifier\n",
        "\n",
        "model = KerasClassifier(build_fn=create_model, verbose=1)\n",
        "\n",
        "param_grid = {\"batch_size\":[10, 50, 100],\n",
        "              \"epochs\": [20],\n",
        "              \"optimizer\": ['adam', 'SGD'],\n",
        "              \"optimizer__lr\": [0.001, 0.1],\n",
        "              \"optimizer__momentum\": [0, 0.01],\n",
        "              \"activation\": ['relu', 'sigmoid']\n",
        "}"
      ],
      "execution_count": 53,
      "outputs": [
        {
          "output_type": "stream",
          "text": [
            "Using TensorFlow backend.\n"
          ],
          "name": "stderr"
        }
      ]
    },
    {
      "cell_type": "code",
      "metadata": {
        "id": "sQz4VoLYr91j",
        "colab_type": "code",
        "colab": {}
      },
      "source": [
        ""
      ],
      "execution_count": 0,
      "outputs": []
    },
    {
      "cell_type": "markdown",
      "metadata": {
        "id": "FfZRtJ7MCN3x",
        "colab_type": "text"
      },
      "source": [
        "## Stretch Goals:\n",
        "\n",
        "- Try to implement Random Search Hyperparameter Tuning on this dataset\n",
        "- Try to implement Bayesian Optimiation tuning on this dataset\n",
        "- Practice hyperparameter tuning other datasets that we have looked at. How high can you get MNIST? Above 99%?\n",
        "- Study for the Sprint Challenge\n",
        " - Can you implement both perceptron and MLP models from scratch with forward and backpropagation?\n",
        " - Can you implement both perceptron and MLP models in keras and tune their hyperparameters with cross validation?"
      ]
    }
  ]
}